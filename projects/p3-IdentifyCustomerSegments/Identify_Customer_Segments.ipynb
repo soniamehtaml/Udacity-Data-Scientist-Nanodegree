{
 "cells": [
  {
   "cell_type": "markdown",
   "metadata": {},
   "source": [
    "# Project: Identify Customer Segments\n",
    "\n",
    "In this project, you will apply unsupervised learning techniques to identify segments of the population that form the core customer base for a mail-order sales company in Germany. These segments can then be used to direct marketing campaigns towards audiences that will have the highest expected rate of returns. The data that you will use has been provided by our partners at Bertelsmann Arvato Analytics, and represents a real-life data science task.\n",
    "\n",
    "This notebook will help you complete this task by providing a framework within which you will perform your analysis steps. In each step of the project, you will see some text describing the subtask that you will perform, followed by one or more code cells for you to complete your work. **Feel free to add additional code and markdown cells as you go along so that you can explore everything in precise chunks.** The code cells provided in the base template will outline only the major tasks, and will usually not be enough to cover all of the minor tasks that comprise it.\n",
    "\n",
    "It should be noted that while there will be precise guidelines on how you should handle certain tasks in the project, there will also be places where an exact specification is not provided. **There will be times in the project where you will need to make and justify your own decisions on how to treat the data.** These are places where there may not be only one way to handle the data. In real-life tasks, there may be many valid ways to approach an analysis task. One of the most important things you can do is clearly document your approach so that other scientists can understand the decisions you've made.\n",
    "\n",
    "At the end of most sections, there will be a Markdown cell labeled **Discussion**. In these cells, you will report your findings for the completed section, as well as document the decisions that you made in your approach to each subtask. **Your project will be evaluated not just on the code used to complete the tasks outlined, but also your communication about your observations and conclusions at each stage.**"
   ]
  },
  {
   "cell_type": "code",
   "execution_count": 1,
   "metadata": {},
   "outputs": [],
   "source": [
    "# import libraries here; add more as necessary\n",
    "import numpy as np\n",
    "import pandas as pd\n",
    "import matplotlib.pyplot as plt\n",
    "import seaborn as sns\n",
    "\n",
    "# magic word for producing visualizations in notebook\n",
    "%matplotlib inline"
   ]
  },
  {
   "cell_type": "markdown",
   "metadata": {},
   "source": [
    "### Step 0: Load the Data\n",
    "\n",
    "There are four files associated with this project (not including this one):\n",
    "\n",
    "- `Udacity_AZDIAS_Subset.csv`: Demographics data for the general population of Germany; 891211 persons (rows) x 85 features (columns).\n",
    "- `Udacity_CUSTOMERS_Subset.csv`: Demographics data for customers of a mail-order company; 191652 persons (rows) x 85 features (columns).\n",
    "- `Data_Dictionary.md`: Detailed information file about the features in the provided datasets.\n",
    "- `AZDIAS_Feature_Summary.csv`: Summary of feature attributes for demographics data; 85 features (rows) x 4 columns\n",
    "\n",
    "Each row of the demographics files represents a single person, but also includes information outside of individuals, including information about their household, building, and neighborhood. You will use this information to cluster the general population into groups with similar demographic properties. Then, you will see how the people in the customers dataset fit into those created clusters. The hope here is that certain clusters are over-represented in the customers data, as compared to the general population; those over-represented clusters will be assumed to be part of the core userbase. This information can then be used for further applications, such as targeting for a marketing campaign.\n",
    "\n",
    "To start off with, load in the demographics data for the general population into a pandas DataFrame, and do the same for the feature attributes summary. Note for all of the `.csv` data files in this project: they're semicolon (`;`) delimited, so you'll need an additional argument in your [`read_csv()`](https://pandas.pydata.org/pandas-docs/stable/generated/pandas.read_csv.html) call to read in the data properly. Also, considering the size of the main dataset, it may take some time for it to load completely.\n",
    "\n",
    "Once the dataset is loaded, it's recommended that you take a little bit of time just browsing the general structure of the dataset and feature summary file. You'll be getting deep into the innards of the cleaning in the first major step of the project, so gaining some general familiarity can help you get your bearings."
   ]
  },
  {
   "cell_type": "code",
   "execution_count": 2,
   "metadata": {},
   "outputs": [],
   "source": [
    "# Load in the general demographics data.\n",
    "azdias = pd.read_csv(\"Udacity_AZDIAS_Subset.csv\", delimiter = \";\")\n",
    "\n",
    "# Load in the feature summary file.\n",
    "feat_info = pd.read_csv(\"AZDIAS_Feature_Summary.csv\", delimiter = \";\")"
   ]
  },
  {
   "cell_type": "code",
   "execution_count": 3,
   "metadata": {},
   "outputs": [
    {
     "data": {
      "text/plain": [
       "(891221, 85)"
      ]
     },
     "execution_count": 3,
     "metadata": {},
     "output_type": "execute_result"
    }
   ],
   "source": [
    "# Check the structure of the data after it's loaded (e.g. print the number of\n",
    "# rows and columns, print the first few rows).\n",
    "azdias.shape"
   ]
  },
  {
   "cell_type": "code",
   "execution_count": 4,
   "metadata": {
    "scrolled": true
   },
   "outputs": [
    {
     "data": {
      "text/html": [
       "<div>\n",
       "<style scoped>\n",
       "    .dataframe tbody tr th:only-of-type {\n",
       "        vertical-align: middle;\n",
       "    }\n",
       "\n",
       "    .dataframe tbody tr th {\n",
       "        vertical-align: top;\n",
       "    }\n",
       "\n",
       "    .dataframe thead th {\n",
       "        text-align: right;\n",
       "    }\n",
       "</style>\n",
       "<table border=\"1\" class=\"dataframe\">\n",
       "  <thead>\n",
       "    <tr style=\"text-align: right;\">\n",
       "      <th></th>\n",
       "      <th>AGER_TYP</th>\n",
       "      <th>ALTERSKATEGORIE_GROB</th>\n",
       "      <th>ANREDE_KZ</th>\n",
       "      <th>CJT_GESAMTTYP</th>\n",
       "      <th>FINANZ_MINIMALIST</th>\n",
       "      <th>FINANZ_SPARER</th>\n",
       "      <th>FINANZ_VORSORGER</th>\n",
       "      <th>FINANZ_ANLEGER</th>\n",
       "      <th>FINANZ_UNAUFFAELLIGER</th>\n",
       "      <th>FINANZ_HAUSBAUER</th>\n",
       "      <th>...</th>\n",
       "      <th>PLZ8_ANTG1</th>\n",
       "      <th>PLZ8_ANTG2</th>\n",
       "      <th>PLZ8_ANTG3</th>\n",
       "      <th>PLZ8_ANTG4</th>\n",
       "      <th>PLZ8_BAUMAX</th>\n",
       "      <th>PLZ8_HHZ</th>\n",
       "      <th>PLZ8_GBZ</th>\n",
       "      <th>ARBEIT</th>\n",
       "      <th>ORTSGR_KLS9</th>\n",
       "      <th>RELAT_AB</th>\n",
       "    </tr>\n",
       "  </thead>\n",
       "  <tbody>\n",
       "    <tr>\n",
       "      <th>0</th>\n",
       "      <td>-1</td>\n",
       "      <td>2</td>\n",
       "      <td>1</td>\n",
       "      <td>2.0</td>\n",
       "      <td>3</td>\n",
       "      <td>4</td>\n",
       "      <td>3</td>\n",
       "      <td>5</td>\n",
       "      <td>5</td>\n",
       "      <td>3</td>\n",
       "      <td>...</td>\n",
       "      <td>NaN</td>\n",
       "      <td>NaN</td>\n",
       "      <td>NaN</td>\n",
       "      <td>NaN</td>\n",
       "      <td>NaN</td>\n",
       "      <td>NaN</td>\n",
       "      <td>NaN</td>\n",
       "      <td>NaN</td>\n",
       "      <td>NaN</td>\n",
       "      <td>NaN</td>\n",
       "    </tr>\n",
       "    <tr>\n",
       "      <th>1</th>\n",
       "      <td>-1</td>\n",
       "      <td>1</td>\n",
       "      <td>2</td>\n",
       "      <td>5.0</td>\n",
       "      <td>1</td>\n",
       "      <td>5</td>\n",
       "      <td>2</td>\n",
       "      <td>5</td>\n",
       "      <td>4</td>\n",
       "      <td>5</td>\n",
       "      <td>...</td>\n",
       "      <td>2.0</td>\n",
       "      <td>3.0</td>\n",
       "      <td>2.0</td>\n",
       "      <td>1.0</td>\n",
       "      <td>1.0</td>\n",
       "      <td>5.0</td>\n",
       "      <td>4.0</td>\n",
       "      <td>3.0</td>\n",
       "      <td>5.0</td>\n",
       "      <td>4.0</td>\n",
       "    </tr>\n",
       "    <tr>\n",
       "      <th>2</th>\n",
       "      <td>-1</td>\n",
       "      <td>3</td>\n",
       "      <td>2</td>\n",
       "      <td>3.0</td>\n",
       "      <td>1</td>\n",
       "      <td>4</td>\n",
       "      <td>1</td>\n",
       "      <td>2</td>\n",
       "      <td>3</td>\n",
       "      <td>5</td>\n",
       "      <td>...</td>\n",
       "      <td>3.0</td>\n",
       "      <td>3.0</td>\n",
       "      <td>1.0</td>\n",
       "      <td>0.0</td>\n",
       "      <td>1.0</td>\n",
       "      <td>4.0</td>\n",
       "      <td>4.0</td>\n",
       "      <td>3.0</td>\n",
       "      <td>5.0</td>\n",
       "      <td>2.0</td>\n",
       "    </tr>\n",
       "    <tr>\n",
       "      <th>3</th>\n",
       "      <td>2</td>\n",
       "      <td>4</td>\n",
       "      <td>2</td>\n",
       "      <td>2.0</td>\n",
       "      <td>4</td>\n",
       "      <td>2</td>\n",
       "      <td>5</td>\n",
       "      <td>2</td>\n",
       "      <td>1</td>\n",
       "      <td>2</td>\n",
       "      <td>...</td>\n",
       "      <td>2.0</td>\n",
       "      <td>2.0</td>\n",
       "      <td>2.0</td>\n",
       "      <td>0.0</td>\n",
       "      <td>1.0</td>\n",
       "      <td>3.0</td>\n",
       "      <td>4.0</td>\n",
       "      <td>2.0</td>\n",
       "      <td>3.0</td>\n",
       "      <td>3.0</td>\n",
       "    </tr>\n",
       "    <tr>\n",
       "      <th>4</th>\n",
       "      <td>-1</td>\n",
       "      <td>3</td>\n",
       "      <td>1</td>\n",
       "      <td>5.0</td>\n",
       "      <td>4</td>\n",
       "      <td>3</td>\n",
       "      <td>4</td>\n",
       "      <td>1</td>\n",
       "      <td>3</td>\n",
       "      <td>2</td>\n",
       "      <td>...</td>\n",
       "      <td>2.0</td>\n",
       "      <td>4.0</td>\n",
       "      <td>2.0</td>\n",
       "      <td>1.0</td>\n",
       "      <td>2.0</td>\n",
       "      <td>3.0</td>\n",
       "      <td>3.0</td>\n",
       "      <td>4.0</td>\n",
       "      <td>6.0</td>\n",
       "      <td>5.0</td>\n",
       "    </tr>\n",
       "  </tbody>\n",
       "</table>\n",
       "<p>5 rows × 85 columns</p>\n",
       "</div>"
      ],
      "text/plain": [
       "   AGER_TYP  ALTERSKATEGORIE_GROB  ANREDE_KZ  CJT_GESAMTTYP  \\\n",
       "0        -1                     2          1            2.0   \n",
       "1        -1                     1          2            5.0   \n",
       "2        -1                     3          2            3.0   \n",
       "3         2                     4          2            2.0   \n",
       "4        -1                     3          1            5.0   \n",
       "\n",
       "   FINANZ_MINIMALIST  FINANZ_SPARER  FINANZ_VORSORGER  FINANZ_ANLEGER  \\\n",
       "0                  3              4                 3               5   \n",
       "1                  1              5                 2               5   \n",
       "2                  1              4                 1               2   \n",
       "3                  4              2                 5               2   \n",
       "4                  4              3                 4               1   \n",
       "\n",
       "   FINANZ_UNAUFFAELLIGER  FINANZ_HAUSBAUER    ...     PLZ8_ANTG1  PLZ8_ANTG2  \\\n",
       "0                      5                 3    ...            NaN         NaN   \n",
       "1                      4                 5    ...            2.0         3.0   \n",
       "2                      3                 5    ...            3.0         3.0   \n",
       "3                      1                 2    ...            2.0         2.0   \n",
       "4                      3                 2    ...            2.0         4.0   \n",
       "\n",
       "   PLZ8_ANTG3  PLZ8_ANTG4  PLZ8_BAUMAX  PLZ8_HHZ  PLZ8_GBZ  ARBEIT  \\\n",
       "0         NaN         NaN          NaN       NaN       NaN     NaN   \n",
       "1         2.0         1.0          1.0       5.0       4.0     3.0   \n",
       "2         1.0         0.0          1.0       4.0       4.0     3.0   \n",
       "3         2.0         0.0          1.0       3.0       4.0     2.0   \n",
       "4         2.0         1.0          2.0       3.0       3.0     4.0   \n",
       "\n",
       "   ORTSGR_KLS9  RELAT_AB  \n",
       "0          NaN       NaN  \n",
       "1          5.0       4.0  \n",
       "2          5.0       2.0  \n",
       "3          3.0       3.0  \n",
       "4          6.0       5.0  \n",
       "\n",
       "[5 rows x 85 columns]"
      ]
     },
     "execution_count": 4,
     "metadata": {},
     "output_type": "execute_result"
    }
   ],
   "source": [
    "azdias.head()"
   ]
  },
  {
   "cell_type": "markdown",
   "metadata": {},
   "source": [
    "> **Tip**: Add additional cells to keep everything in reasonably-sized chunks! Keyboard shortcut `esc --> a` (press escape to enter command mode, then press the 'A' key) adds a new cell before the active cell, and `esc --> b` adds a new cell after the active cell. If you need to convert an active cell to a markdown cell, use `esc --> m` and to convert to a code cell, use `esc --> y`. \n",
    "\n",
    "## Step 1: Preprocessing\n",
    "\n",
    "### Step 1.1: Assess Missing Data\n",
    "\n",
    "The feature summary file contains a summary of properties for each demographics data column. You will use this file to help you make cleaning decisions during this stage of the project. First of all, you should assess the demographics data in terms of missing data. Pay attention to the following points as you perform your analysis, and take notes on what you observe. Make sure that you fill in the **Discussion** cell with your findings and decisions at the end of each step that has one!\n",
    "\n",
    "#### Step 1.1.1: Convert Missing Value Codes to NaNs\n",
    "The fourth column of the feature attributes summary (loaded in above as `feat_info`) documents the codes from the data dictionary that indicate missing or unknown data. While the file encodes this as a list (e.g. `[-1,0]`), this will get read in as a string object. You'll need to do a little bit of parsing to make use of it to identify and clean the data. Convert data that matches a 'missing' or 'unknown' value code into a numpy NaN value. You might want to see how much data takes on a 'missing' or 'unknown' code, and how much data is naturally missing, as a point of interest.\n",
    "\n",
    "**As one more reminder, you are encouraged to add additional cells to break up your analysis into manageable chunks.**"
   ]
  },
  {
   "cell_type": "code",
   "execution_count": 5,
   "metadata": {
    "scrolled": true
   },
   "outputs": [
    {
     "data": {
      "text/html": [
       "<div>\n",
       "<style scoped>\n",
       "    .dataframe tbody tr th:only-of-type {\n",
       "        vertical-align: middle;\n",
       "    }\n",
       "\n",
       "    .dataframe tbody tr th {\n",
       "        vertical-align: top;\n",
       "    }\n",
       "\n",
       "    .dataframe thead th {\n",
       "        text-align: right;\n",
       "    }\n",
       "</style>\n",
       "<table border=\"1\" class=\"dataframe\">\n",
       "  <thead>\n",
       "    <tr style=\"text-align: right;\">\n",
       "      <th></th>\n",
       "      <th>attribute</th>\n",
       "      <th>information_level</th>\n",
       "      <th>type</th>\n",
       "      <th>missing_or_unknown</th>\n",
       "    </tr>\n",
       "  </thead>\n",
       "  <tbody>\n",
       "    <tr>\n",
       "      <th>0</th>\n",
       "      <td>AGER_TYP</td>\n",
       "      <td>person</td>\n",
       "      <td>categorical</td>\n",
       "      <td>[-1,0]</td>\n",
       "    </tr>\n",
       "    <tr>\n",
       "      <th>1</th>\n",
       "      <td>ALTERSKATEGORIE_GROB</td>\n",
       "      <td>person</td>\n",
       "      <td>ordinal</td>\n",
       "      <td>[-1,0,9]</td>\n",
       "    </tr>\n",
       "    <tr>\n",
       "      <th>2</th>\n",
       "      <td>ANREDE_KZ</td>\n",
       "      <td>person</td>\n",
       "      <td>categorical</td>\n",
       "      <td>[-1,0]</td>\n",
       "    </tr>\n",
       "    <tr>\n",
       "      <th>3</th>\n",
       "      <td>CJT_GESAMTTYP</td>\n",
       "      <td>person</td>\n",
       "      <td>categorical</td>\n",
       "      <td>[0]</td>\n",
       "    </tr>\n",
       "    <tr>\n",
       "      <th>4</th>\n",
       "      <td>FINANZ_MINIMALIST</td>\n",
       "      <td>person</td>\n",
       "      <td>ordinal</td>\n",
       "      <td>[-1]</td>\n",
       "    </tr>\n",
       "    <tr>\n",
       "      <th>5</th>\n",
       "      <td>FINANZ_SPARER</td>\n",
       "      <td>person</td>\n",
       "      <td>ordinal</td>\n",
       "      <td>[-1]</td>\n",
       "    </tr>\n",
       "    <tr>\n",
       "      <th>6</th>\n",
       "      <td>FINANZ_VORSORGER</td>\n",
       "      <td>person</td>\n",
       "      <td>ordinal</td>\n",
       "      <td>[-1]</td>\n",
       "    </tr>\n",
       "    <tr>\n",
       "      <th>7</th>\n",
       "      <td>FINANZ_ANLEGER</td>\n",
       "      <td>person</td>\n",
       "      <td>ordinal</td>\n",
       "      <td>[-1]</td>\n",
       "    </tr>\n",
       "    <tr>\n",
       "      <th>8</th>\n",
       "      <td>FINANZ_UNAUFFAELLIGER</td>\n",
       "      <td>person</td>\n",
       "      <td>ordinal</td>\n",
       "      <td>[-1]</td>\n",
       "    </tr>\n",
       "    <tr>\n",
       "      <th>9</th>\n",
       "      <td>FINANZ_HAUSBAUER</td>\n",
       "      <td>person</td>\n",
       "      <td>ordinal</td>\n",
       "      <td>[-1]</td>\n",
       "    </tr>\n",
       "  </tbody>\n",
       "</table>\n",
       "</div>"
      ],
      "text/plain": [
       "               attribute information_level         type missing_or_unknown\n",
       "0               AGER_TYP            person  categorical             [-1,0]\n",
       "1   ALTERSKATEGORIE_GROB            person      ordinal           [-1,0,9]\n",
       "2              ANREDE_KZ            person  categorical             [-1,0]\n",
       "3          CJT_GESAMTTYP            person  categorical                [0]\n",
       "4      FINANZ_MINIMALIST            person      ordinal               [-1]\n",
       "5          FINANZ_SPARER            person      ordinal               [-1]\n",
       "6       FINANZ_VORSORGER            person      ordinal               [-1]\n",
       "7         FINANZ_ANLEGER            person      ordinal               [-1]\n",
       "8  FINANZ_UNAUFFAELLIGER            person      ordinal               [-1]\n",
       "9       FINANZ_HAUSBAUER            person      ordinal               [-1]"
      ]
     },
     "execution_count": 5,
     "metadata": {},
     "output_type": "execute_result"
    }
   ],
   "source": [
    "# Identify missing or unknown data values and convert them to NaNs.\n",
    "feat_info.head(10)"
   ]
  },
  {
   "cell_type": "code",
   "execution_count": 6,
   "metadata": {},
   "outputs": [
    {
     "data": {
      "text/plain": [
       "4896838"
      ]
     },
     "execution_count": 6,
     "metadata": {},
     "output_type": "execute_result"
    }
   ],
   "source": [
    "# naturally missing value counts\n",
    "nat_mis_count = azdias.isnull().sum()\n",
    "nat_mis_count.sum()"
   ]
  },
  {
   "cell_type": "code",
   "execution_count": 7,
   "metadata": {},
   "outputs": [],
   "source": [
    "def is_number(s):\n",
    "    try:\n",
    "        float(s)\n",
    "        return True\n",
    "    except ValueError:\n",
    "        return False\n",
    "\n",
    "def to_list(string, replace_dict = {'[':'', ']':'', ',':' '}):\n",
    "    for s in replace_dict:\n",
    "        string = string.replace(s, replace_dict[s])\n",
    "    old_list = string.split()\n",
    "    if (all(is_number(x) for x in old_list)):\n",
    "        new_list = list(map(int, old_list))\n",
    "    else:\n",
    "        new_list = old_list\n",
    "    return new_list"
   ]
  },
  {
   "cell_type": "code",
   "execution_count": 8,
   "metadata": {},
   "outputs": [],
   "source": [
    "# convert data that matches a 'missing' or 'unknown' value code into a numpy NaN value\n",
    "for col in list(azdias):\n",
    "    for lst in to_list(feat_info[feat_info.attribute == col].iloc[0,3]):\n",
    "        azdias[col] = azdias[col].replace(lst, np.nan)"
   ]
  },
  {
   "cell_type": "code",
   "execution_count": 9,
   "metadata": {},
   "outputs": [
    {
     "data": {
      "text/plain": [
       "8373929"
      ]
     },
     "execution_count": 9,
     "metadata": {},
     "output_type": "execute_result"
    }
   ],
   "source": [
    "# all missing value counts\n",
    "all_mis_count = azdias.isnull().sum()\n",
    "all_mis_count.sum()"
   ]
  },
  {
   "cell_type": "markdown",
   "metadata": {},
   "source": [
    "#### Step 1.1.2: Assess Missing Data in Each Column\n",
    "\n",
    "How much missing data is present in each column? There are a few columns that are outliers in terms of the proportion of values that are missing. You will want to use matplotlib's [`hist()`](https://matplotlib.org/api/_as_gen/matplotlib.pyplot.hist.html) function to visualize the distribution of missing value counts to find these columns. Identify and document these columns. While some of these columns might have justifications for keeping or re-encoding the data, for this project you should just remove them from the dataframe. (Feel free to make remarks about these outlier columns in the discussion, however!)\n",
    "\n",
    "For the remaining features, are there any patterns in which columns have, or share, missing data?"
   ]
  },
  {
   "cell_type": "code",
   "execution_count": 10,
   "metadata": {},
   "outputs": [
    {
     "data": {
      "image/png": "[encoded data removed]",
      "text/plain": [
       "<Figure size 432x288 with 1 Axes>"
      ]
     },
     "metadata": {},
     "output_type": "display_data"
    }
   ],
   "source": [
    "# Perform an assessment of how much missing data there is in each column of the dataset.\n",
    "per_mis = all_mis_count/azdias.shape[0]\n",
    "\n",
    "plt.hist(per_mis, 30, facecolor='g')\n",
    "plt.xlabel('Percentage of Missing Values')\n",
    "plt.ylabel('Number of Features')\n",
    "plt.title('Histogram of Missing Values Per Feature')\n",
    "plt.show()"
   ]
  },
  {
   "cell_type": "code",
   "execution_count": 11,
   "metadata": {
    "scrolled": false
   },
   "outputs": [
    {
     "data": {
      "image/png": "[encoded data removed]",
      "text/plain": [
       "<Figure size 1080x576 with 1 Axes>"
      ]
     },
     "metadata": {},
     "output_type": "display_data"
    }
   ],
   "source": [
    "# Investigate patterns in the amount of missing data in each column.\n",
    "plt.figure(figsize=(15,8))\n",
    "plt.plot(per_mis, 'g^')\n",
    "plt.xlabel('Features')\n",
    "plt.ylabel('Percentage of Missing Values')\n",
    "plt.title('Plot of Missing Values by Features')\n",
    "plt.show()"
   ]
  },
  {
   "cell_type": "code",
   "execution_count": 12,
   "metadata": {},
   "outputs": [
    {
     "data": {
      "text/plain": [
       "AGER_TYP        0.769554\n",
       "GEBURTSJAHR     0.440203\n",
       "TITEL_KZ        0.997576\n",
       "ALTER_HH        0.348137\n",
       "KK_KUNDENTYP    0.655967\n",
       "KBA05_BAUMAX    0.534687\n",
       "dtype: float64"
      ]
     },
     "execution_count": 12,
     "metadata": {},
     "output_type": "execute_result"
    }
   ],
   "source": [
    "per_mis[per_mis > per_mis.std() * 2]"
   ]
  },
  {
   "cell_type": "code",
   "execution_count": 13,
   "metadata": {
    "scrolled": true
   },
   "outputs": [
    {
     "data": {
      "text/plain": [
       "AGER_TYP        0.769554\n",
       "GEBURTSJAHR     0.440203\n",
       "TITEL_KZ        0.997576\n",
       "ALTER_HH        0.348137\n",
       "KK_KUNDENTYP    0.655967\n",
       "KBA05_BAUMAX    0.534687\n",
       "dtype: float64"
      ]
     },
     "execution_count": 13,
     "metadata": {},
     "output_type": "execute_result"
    }
   ],
   "source": [
    "per_mis[per_mis > 0.3]"
   ]
  },
  {
   "cell_type": "code",
   "execution_count": 14,
   "metadata": {},
   "outputs": [],
   "source": [
    "# Remove the outlier columns from the dataset. (You'll perform other data\n",
    "# engineering tasks such as re-encoding and imputation later.)\n",
    "azdias = azdias.drop(list(per_mis[per_mis > per_mis.std() * 2].index), axis = 1)"
   ]
  },
  {
   "cell_type": "code",
   "execution_count": 15,
   "metadata": {},
   "outputs": [
    {
     "data": {
      "text/plain": [
       "(891221, 79)"
      ]
     },
     "execution_count": 15,
     "metadata": {},
     "output_type": "execute_result"
    }
   ],
   "source": [
    "azdias.shape"
   ]
  },
  {
   "cell_type": "markdown",
   "metadata": {},
   "source": [
    "#### Discussion 1.1.2: Assess Missing Data in Each Column\n",
    "\n",
    "(Double click this cell and replace this text with your own text, reporting your observations regarding the amount of missing data in each column. Are there any patterns in missing values? Which columns were removed from the dataset?)  \n",
    "**Answer:** From histogram of missing values by columns, 6 columns (`AGER_TYP`, `GEBURTSJAHR`, `TITEL_KZ`, `ALTER_HH`, `KK_KUNDENTYP`, `KBA05_BAUMAX`) have > 30% missing values. They were removed."
   ]
  },
  {
   "cell_type": "markdown",
   "metadata": {},
   "source": [
    "#### Step 1.1.3: Assess Missing Data in Each Row\n",
    "\n",
    "Now, you'll perform a similar assessment for the rows of the dataset. How much data is missing in each row? As with the columns, you should see some groups of points that have a very different numbers of missing values. Divide the data into two subsets: one for data points that are above some threshold for missing values, and a second subset for points below that threshold.\n",
    "\n",
    "In order to know what to do with the outlier rows, we should see if the distribution of data values on columns that are not missing data (or are missing very little data) are similar or different between the two groups. Select at least five of these columns and compare the distribution of values.\n",
    "- You can use seaborn's [`countplot()`](https://seaborn.pydata.org/generated/seaborn.countplot.html) function to create a bar chart of code frequencies and matplotlib's [`subplot()`](https://matplotlib.org/api/_as_gen/matplotlib.pyplot.subplot.html) function to put bar charts for the two subplots side by side.\n",
    "- To reduce repeated code, you might want to write a function that can perform this comparison, taking as one of its arguments a column to be compared.\n",
    "\n",
    "Depending on what you observe in your comparison, this will have implications on how you approach your conclusions later in the analysis. If the distributions of non-missing features look similar between the data with many missing values and the data with few or no missing values, then we could argue that simply dropping those points from the analysis won't present a major issue. On the other hand, if the data with many missing values looks very different from the data with few or no missing values, then we should make a note on those data as special. We'll revisit these data later on. **Either way, you should continue your analysis for now using just the subset of the data with few or no missing values.**"
   ]
  },
  {
   "cell_type": "code",
   "execution_count": 16,
   "metadata": {},
   "outputs": [],
   "source": [
    "# How much data is missing in each row of the dataset?\n",
    "mis_per_row = azdias.isnull().sum(axis = 1)"
   ]
  },
  {
   "cell_type": "code",
   "execution_count": 17,
   "metadata": {},
   "outputs": [
    {
     "data": {
      "text/plain": [
       "93201"
      ]
     },
     "execution_count": 17,
     "metadata": {},
     "output_type": "execute_result"
    }
   ],
   "source": [
    "len(mis_per_row[mis_per_row > mis_per_row.std()*2])"
   ]
  },
  {
   "cell_type": "code",
   "execution_count": 18,
   "metadata": {},
   "outputs": [
    {
     "data": {
      "text/plain": [
       "93795"
      ]
     },
     "execution_count": 18,
     "metadata": {},
     "output_type": "execute_result"
    }
   ],
   "source": [
    "len(mis_per_row[mis_per_row > 20])"
   ]
  },
  {
   "cell_type": "code",
   "execution_count": 19,
   "metadata": {},
   "outputs": [
    {
     "data": {
      "image/png": "[encoded data removed]",
      "text/plain": [
       "<Figure size 432x288 with 1 Axes>"
      ]
     },
     "metadata": {},
     "output_type": "display_data"
    }
   ],
   "source": [
    "# Write code to divide the data into two subsets based on the number of missing\n",
    "# values in each row.\n",
    "plt.hist(mis_per_row)\n",
    "plt.xlabel('Number of Missing Values')\n",
    "plt.ylabel('Number of Observations')\n",
    "plt.title('Histogram of Missing Values Per Obervation')\n",
    "plt.show()"
   ]
  },
  {
   "cell_type": "code",
   "execution_count": 20,
   "metadata": {},
   "outputs": [
    {
     "data": {
      "text/plain": [
       "True"
      ]
     },
     "execution_count": 20,
     "metadata": {},
     "output_type": "execute_result"
    }
   ],
   "source": [
    "# a subset of the data with few or no missing values\n",
    "azdias_1 = azdias.drop(list(mis_per_row[mis_per_row > mis_per_row.std()*2].index), axis = 0)\n",
    "# a subset of the data with many missing values\n",
    "azdias_2 = azdias.drop(list(mis_per_row[mis_per_row < mis_per_row.std()*2].index), axis = 0)\n",
    "azdias_1.shape[0] + azdias_2.shape[0] == azdias.shape[0]"
   ]
  },
  {
   "cell_type": "code",
   "execution_count": 21,
   "metadata": {},
   "outputs": [],
   "source": [
    "# Compare the distribution of values for at least five columns where there are\n",
    "# no or few missing values, between the two subsets.\n",
    "def feature_dist(colms, data1, data2):\n",
    "    n = len(colms)\n",
    "    f = plt.figure(figsize=(10, 4*n))\n",
    "    for k in range(n):       \n",
    "        for i in [2*k+1, 2*k+2]:\n",
    "            plt.subplot(n,2,i)\n",
    "            j = 1 if i % 2 == 1 else 2\n",
    "            sns.countplot(x = colms[k], data = eval('data'+str(j)))\n",
    "            plt.xlabel(colms[k])\n",
    "            plt.ylabel('Rows')\n",
    "            if j == 1:\n",
    "                mytitle = '< 20 missing features'\n",
    "            else:\n",
    "                mytitle = '>= 20 missing features'\n",
    "            plt.title(mytitle)\n",
    "            plt.grid(True)\n",
    "            plt.tight_layout()"
   ]
  },
  {
   "cell_type": "code",
   "execution_count": 22,
   "metadata": {
    "scrolled": false
   },
   "outputs": [
    {
     "data": {
      "image/png": "[encoded data removed]",
      "text/plain": [
       "<Figure size 720x1440 with 10 Axes>"
      ]
     },
     "metadata": {},
     "output_type": "display_data"
    }
   ],
   "source": [
    "feature_dist(colms = list(azdias)[5:10], data1 = azdias_1, data2 = azdias_2)"
   ]
  },
  {
   "cell_type": "markdown",
   "metadata": {},
   "source": [
    "#### Discussion 1.1.3: Assess Missing Data in Each Row\n",
    "\n",
    "(Double-click this cell and replace this text with your own text, reporting your observations regarding missing data in rows. Are the data with lots of missing values are qualitatively different from data with few or no missing values?)  \n",
    "**Answer:** There are abou 93,000 observations with >= 20 missing values out of 79 values.From histograms, those observations with >= 20 missing values are qualitatively different from obser with < 20 missing values."
   ]
  },
  {
   "cell_type": "markdown",
   "metadata": {},
   "source": [
    "### Step 1.2: Select and Re-Encode Features\n",
    "\n",
    "Checking for missing data isn't the only way in which you can prepare a dataset for analysis. Since the unsupervised learning techniques to be used will only work on data that is encoded numerically, you need to make a few encoding changes or additional assumptions to be able to make progress. In addition, while almost all of the values in the dataset are encoded using numbers, not all of them represent numeric values. Check the third column of the feature summary (`feat_info`) for a summary of types of measurement.\n",
    "- For numeric and interval data, these features can be kept without changes.\n",
    "- Most of the variables in the dataset are ordinal in nature. While ordinal values may technically be non-linear in spacing, make the simplifying assumption that the ordinal variables can be treated as being interval in nature (that is, kept without any changes).\n",
    "- Special handling may be necessary for the remaining two variable types: categorical, and 'mixed'.\n",
    "\n",
    "In the first two parts of this sub-step, you will perform an investigation of the categorical and mixed-type features and make a decision on each of them, whether you will keep, drop, or re-encode each. Then, in the last part, you will create a new data frame with only the selected and engineered columns.\n",
    "\n",
    "Data wrangling is often the trickiest part of the data analysis process, and there's a lot of it to be done here. But stick with it: once you're done with this step, you'll be ready to get to the machine learning parts of the project!"
   ]
  },
  {
   "cell_type": "code",
   "execution_count": 23,
   "metadata": {},
   "outputs": [
    {
     "data": {
      "text/html": [
       "<div>\n",
       "<style scoped>\n",
       "    .dataframe tbody tr th:only-of-type {\n",
       "        vertical-align: middle;\n",
       "    }\n",
       "\n",
       "    .dataframe tbody tr th {\n",
       "        vertical-align: top;\n",
       "    }\n",
       "\n",
       "    .dataframe thead tr th {\n",
       "        text-align: left;\n",
       "    }\n",
       "\n",
       "    .dataframe thead tr:last-of-type th {\n",
       "        text-align: right;\n",
       "    }\n",
       "</style>\n",
       "<table border=\"1\" class=\"dataframe\">\n",
       "  <thead>\n",
       "    <tr>\n",
       "      <th></th>\n",
       "      <th>attribute</th>\n",
       "    </tr>\n",
       "    <tr>\n",
       "      <th></th>\n",
       "      <th>count</th>\n",
       "    </tr>\n",
       "    <tr>\n",
       "      <th>type</th>\n",
       "      <th></th>\n",
       "    </tr>\n",
       "  </thead>\n",
       "  <tbody>\n",
       "    <tr>\n",
       "      <th>categorical</th>\n",
       "      <td>21</td>\n",
       "    </tr>\n",
       "    <tr>\n",
       "      <th>interval</th>\n",
       "      <td>1</td>\n",
       "    </tr>\n",
       "    <tr>\n",
       "      <th>mixed</th>\n",
       "      <td>7</td>\n",
       "    </tr>\n",
       "    <tr>\n",
       "      <th>numeric</th>\n",
       "      <td>7</td>\n",
       "    </tr>\n",
       "    <tr>\n",
       "      <th>ordinal</th>\n",
       "      <td>49</td>\n",
       "    </tr>\n",
       "  </tbody>\n",
       "</table>\n",
       "</div>"
      ],
      "text/plain": [
       "            attribute\n",
       "                count\n",
       "type                 \n",
       "categorical        21\n",
       "interval            1\n",
       "mixed               7\n",
       "numeric             7\n",
       "ordinal            49"
      ]
     },
     "execution_count": 23,
     "metadata": {},
     "output_type": "execute_result"
    }
   ],
   "source": [
    "# How many features are there of each data type?\n",
    "feat_info[['attribute', 'type']].groupby(['type']).agg(['count'])"
   ]
  },
  {
   "cell_type": "markdown",
   "metadata": {},
   "source": [
    "#### Step 1.2.1: Re-Encode Categorical Features\n",
    "\n",
    "For categorical data, you would ordinarily need to encode the levels as dummy variables. Depending on the number of categories, perform one of the following:\n",
    "- For binary (two-level) categoricals that take numeric values, you can keep them without needing to do anything.\n",
    "- There is one binary variable that takes on non-numeric values. For this one, you need to re-encode the values as numbers or create a dummy variable.\n",
    "- For multi-level categoricals (three or more values), you can choose to encode the values using multiple dummy variables (e.g. via [OneHotEncoder](http://scikit-learn.org/stable/modules/generated/sklearn.preprocessing.OneHotEncoder.html)), or (to keep things straightforward) just drop them from the analysis. As always, document your choices in the Discussion section."
   ]
  },
  {
   "cell_type": "code",
   "execution_count": 24,
   "metadata": {
    "scrolled": false
   },
   "outputs": [
    {
     "name": "stdout",
     "output_type": "stream",
     "text": [
      "VERS_TYP [ 2.  1. nan]\n",
      "LP_FAMILIE_GROB [ 3.  1. nan  5.  2.  4.]\n",
      "ANREDE_KZ [2 1]\n",
      "ZABEOTYP [5 3 4 1 6 2]\n",
      "GEBAEUDETYP [8. 1. 3. 2. 6. 4. 5.]\n",
      "CAMEO_DEU_2015 ['8A' '4C' '2A' '6B' '8C' '4A' '2D' '1A' '1E' '9D' '5C' '8B' '7A' '5D'\n",
      " '9E' nan '9B' '1B' '3D' '4E' '4B' '3C' '5A' '7B' '9A' '6D' '6E' '2C' '7C'\n",
      " '9C' '7D' '5E' '1D' '8D' '6C' '6A' '5B' '4D' '3A' '2B' '7E' '3B' '6F'\n",
      " '5F' '1C']\n",
      "GREEN_AVANTGARDE [0 1]\n",
      "OST_WEST_KZ ['W' 'O']\n",
      "LP_FAMILIE_FEIN [ 5.  1. nan 10.  2.  7. 11.  8.  4.  6.  9.  3.]\n",
      "GFK_URLAUBERTYP [10.  1.  5. 12.  9.  3.  8. 11.  4.  2.  7.  6. nan]\n",
      "CJT_GESAMTTYP [ 5.  3.  2.  4.  1.  6. nan]\n",
      "LP_STATUS_GROB [ 1.  2.  4.  5.  3. nan]\n",
      "LP_STATUS_FEIN [ 2.  3.  9.  4.  1. 10.  5.  8.  6.  7. nan]\n",
      "NATIONALITAET_KZ [ 1.  3.  2. nan]\n",
      "SOHO_KZ [1. 0.]\n",
      "FINANZTYP [1 6 5 2 4 3]\n",
      "SHOPPER_TYP [ 3.  2.  1.  0. nan]\n",
      "CAMEO_DEUG_2015 ['8' '4' '2' '6' '1' '9' '5' '7' nan '3']\n"
     ]
    }
   ],
   "source": [
    "# Assess categorical variables: which are binary, which are multi-level, and\n",
    "# which one needs to be re-encoded?\n",
    "cat_var = set(feat_info[feat_info.type == 'categorical'].attribute).intersection(list(azdias_1))\n",
    "for i in cat_var:\n",
    "    print(i, azdias_1[i].unique(), end = '\\n')"
   ]
  },
  {
   "cell_type": "code",
   "execution_count": 25,
   "metadata": {
    "scrolled": true
   },
   "outputs": [],
   "source": [
    "# find cat variables with > 2 levels\n",
    "cat_levels = []\n",
    "for i in cat_var:\n",
    "    cat_levels.append(len(azdias_1[i].unique()))\n",
    "cat_var_gt_2 = pd.Series(list(cat_var))[pd.Series(cat_levels)[pd.Series(cat_levels) > 2].index]"
   ]
  },
  {
   "cell_type": "code",
   "execution_count": 26,
   "metadata": {},
   "outputs": [],
   "source": [
    "# drop the multi-level categorical variables\n",
    "azdias_1 = azdias_1.drop(list(cat_var_gt_2), axis = 1)"
   ]
  },
  {
   "cell_type": "code",
   "execution_count": 27,
   "metadata": {},
   "outputs": [],
   "source": [
    "# Re-encode categorical variable(s) to be kept in the analysis.\n",
    "# variable OST_WEST_KZ takes on non-numeric values ['W' 'O'].\n",
    "azdias_1.OST_WEST_KZ.replace(['W', 'O'], [1, 0], inplace=True)"
   ]
  },
  {
   "cell_type": "markdown",
   "metadata": {},
   "source": [
    "#### Discussion 1.2.1: Re-Encode Categorical Features\n",
    "\n",
    "(Double-click this cell and replace this text with your own text, reporting your findings and decisions regarding categorical features. Which ones did you keep, which did you drop, and what engineering steps did you perform?)  \n",
    "**Answer:** Binary categorical features were kept and multiple categorical features were drop. `OST_WEST_KZ` was coded to numric values. "
   ]
  },
  {
   "cell_type": "markdown",
   "metadata": {},
   "source": [
    "#### Step 1.2.2: Engineer Mixed-Type Features\n",
    "\n",
    "There are a handful of features that are marked as \"mixed\" in the feature summary that require special treatment in order to be included in the analysis. There are two in particular that deserve attention; the handling of the rest are up to your own choices:\n",
    "- \"PRAEGENDE_JUGENDJAHRE\" combines information on three dimensions: generation by decade, movement (mainstream vs. avantgarde), and nation (east vs. west). While there aren't enough levels to disentangle east from west, you should create two new variables to capture the other two dimensions: an interval-type variable for decade, and a binary variable for movement.\n",
    "- \"CAMEO_INTL_2015\" combines information on two axes: wealth and life stage. Break up the two-digit codes by their 'tens'-place and 'ones'-place digits into two new ordinal variables (which, for the purposes of this project, is equivalent to just treating them as their raw numeric values).\n",
    "- If you decide to keep or engineer new features around the other mixed-type features, make sure you note your steps in the Discussion section.\n",
    "\n",
    "Be sure to check `Data_Dictionary.md` for the details needed to finish these tasks."
   ]
  },
  {
   "cell_type": "code",
   "execution_count": 28,
   "metadata": {
    "scrolled": true
   },
   "outputs": [
    {
     "data": {
      "text/html": [
       "<div>\n",
       "<style scoped>\n",
       "    .dataframe tbody tr th:only-of-type {\n",
       "        vertical-align: middle;\n",
       "    }\n",
       "\n",
       "    .dataframe tbody tr th {\n",
       "        vertical-align: top;\n",
       "    }\n",
       "\n",
       "    .dataframe thead th {\n",
       "        text-align: right;\n",
       "    }\n",
       "</style>\n",
       "<table border=\"1\" class=\"dataframe\">\n",
       "  <thead>\n",
       "    <tr style=\"text-align: right;\">\n",
       "      <th></th>\n",
       "      <th>PRAEGENDE_JUGENDJAHRE</th>\n",
       "      <th>PRAEGENDE_JUGENDJAHRE_GEN</th>\n",
       "      <th>PRAEGENDE_JUGENDJAHRE_MOVE</th>\n",
       "    </tr>\n",
       "  </thead>\n",
       "  <tbody>\n",
       "    <tr>\n",
       "      <th>1</th>\n",
       "      <td>14.0</td>\n",
       "      <td>90s</td>\n",
       "      <td>Mainstream</td>\n",
       "    </tr>\n",
       "    <tr>\n",
       "      <th>2</th>\n",
       "      <td>15.0</td>\n",
       "      <td>90s</td>\n",
       "      <td>Avantgarde</td>\n",
       "    </tr>\n",
       "    <tr>\n",
       "      <th>3</th>\n",
       "      <td>8.0</td>\n",
       "      <td>70s</td>\n",
       "      <td>Mainstream</td>\n",
       "    </tr>\n",
       "    <tr>\n",
       "      <th>4</th>\n",
       "      <td>8.0</td>\n",
       "      <td>70s</td>\n",
       "      <td>Mainstream</td>\n",
       "    </tr>\n",
       "    <tr>\n",
       "      <th>5</th>\n",
       "      <td>3.0</td>\n",
       "      <td>50s</td>\n",
       "      <td>Mainstream</td>\n",
       "    </tr>\n",
       "  </tbody>\n",
       "</table>\n",
       "</div>"
      ],
      "text/plain": [
       "   PRAEGENDE_JUGENDJAHRE PRAEGENDE_JUGENDJAHRE_GEN PRAEGENDE_JUGENDJAHRE_MOVE\n",
       "1                   14.0                       90s                 Mainstream\n",
       "2                   15.0                       90s                 Avantgarde\n",
       "3                    8.0                       70s                 Mainstream\n",
       "4                    8.0                       70s                 Mainstream\n",
       "5                    3.0                       50s                 Mainstream"
      ]
     },
     "execution_count": 28,
     "metadata": {},
     "output_type": "execute_result"
    }
   ],
   "source": [
    "# Investigate \"PRAEGENDE_JUGENDJAHRE\" and engineer two new variables.\n",
    "def gen(x):\n",
    "    if (pd.isnull(x)):\n",
    "        return np.nan\n",
    "    elif (x == 1):\n",
    "        return '40s'\n",
    "    elif (x == 2):\n",
    "        return '40s'\n",
    "    elif (x == 3):\n",
    "        return '50s'\n",
    "    elif (x == 4):\n",
    "        return '50s'\n",
    "    elif (x == 5):\n",
    "        return '60s'\n",
    "    elif (x == 6):\n",
    "        return '60s'\n",
    "    elif (x == 7):\n",
    "        return '60s'\n",
    "    elif (x == 8):\n",
    "        return '70s'\n",
    "    elif (x == 9):\n",
    "        return '70s'\n",
    "    elif (x == 10):\n",
    "        return '80s'\n",
    "    elif (x == 11):\n",
    "        return '80s'\n",
    "    elif (x == 12):\n",
    "        return '90s'\n",
    "    elif (x == 13):\n",
    "        return '90s'\n",
    "    elif (x == 14):\n",
    "        return '90s'\n",
    "    else:\n",
    "        return '90s'\n",
    "\n",
    "def move(x):\n",
    "    if (pd.isnull(x)):\n",
    "        return np.nan\n",
    "    elif (x == 1):\n",
    "        return 'Mainstream'\n",
    "    elif (x == 2):\n",
    "        return 'Avantgarde'\n",
    "    elif (x == 3):\n",
    "        return 'Mainstream'\n",
    "    elif (x == 4):\n",
    "        return 'Avantgarde'\n",
    "    elif (x == 5):\n",
    "        return 'Mainstream'\n",
    "    elif (x == 6):\n",
    "        return 'Avantgarde'\n",
    "    elif (x == 7):\n",
    "        return 'Avantgarde'\n",
    "    elif (x == 8):\n",
    "        return 'Mainstream'\n",
    "    elif (x == 9):\n",
    "        return 'Avantgarde'\n",
    "    elif (x == 10):\n",
    "        return 'Mainstream'\n",
    "    elif (x == 11):\n",
    "        return 'Avantgarde'\n",
    "    elif (x == 12):\n",
    "        return 'Mainstream'\n",
    "    elif (x == 13):\n",
    "        return 'Avantgarde'\n",
    "    elif (x == 14):\n",
    "        return 'Mainstream'\n",
    "    else:\n",
    "        return 'Avantgarde'\n",
    "\n",
    "azdias_1['PRAEGENDE_JUGENDJAHRE_GEN'] = azdias_1.PRAEGENDE_JUGENDJAHRE.apply(gen)\n",
    "azdias_1['PRAEGENDE_JUGENDJAHRE_MOVE'] = azdias_1.PRAEGENDE_JUGENDJAHRE.apply(move)\n",
    "azdias_1[['PRAEGENDE_JUGENDJAHRE', 'PRAEGENDE_JUGENDJAHRE_GEN', 'PRAEGENDE_JUGENDJAHRE_MOVE']].head()"
   ]
  },
  {
   "cell_type": "code",
   "execution_count": 29,
   "metadata": {},
   "outputs": [
    {
     "data": {
      "text/html": [
       "<div>\n",
       "<style scoped>\n",
       "    .dataframe tbody tr th:only-of-type {\n",
       "        vertical-align: middle;\n",
       "    }\n",
       "\n",
       "    .dataframe tbody tr th {\n",
       "        vertical-align: top;\n",
       "    }\n",
       "\n",
       "    .dataframe thead th {\n",
       "        text-align: right;\n",
       "    }\n",
       "</style>\n",
       "<table border=\"1\" class=\"dataframe\">\n",
       "  <thead>\n",
       "    <tr style=\"text-align: right;\">\n",
       "      <th></th>\n",
       "      <th>PRAEGENDE_JUGENDJAHRE</th>\n",
       "      <th>PRAEGENDE_JUGENDJAHRE_GEN</th>\n",
       "      <th>PRAEGENDE_JUGENDJAHRE_MOVE</th>\n",
       "    </tr>\n",
       "  </thead>\n",
       "  <tbody>\n",
       "    <tr>\n",
       "      <th>1</th>\n",
       "      <td>14.0</td>\n",
       "      <td>90.0</td>\n",
       "      <td>1.0</td>\n",
       "    </tr>\n",
       "    <tr>\n",
       "      <th>2</th>\n",
       "      <td>15.0</td>\n",
       "      <td>90.0</td>\n",
       "      <td>0.0</td>\n",
       "    </tr>\n",
       "    <tr>\n",
       "      <th>3</th>\n",
       "      <td>8.0</td>\n",
       "      <td>70.0</td>\n",
       "      <td>1.0</td>\n",
       "    </tr>\n",
       "    <tr>\n",
       "      <th>4</th>\n",
       "      <td>8.0</td>\n",
       "      <td>70.0</td>\n",
       "      <td>1.0</td>\n",
       "    </tr>\n",
       "    <tr>\n",
       "      <th>5</th>\n",
       "      <td>3.0</td>\n",
       "      <td>50.0</td>\n",
       "      <td>1.0</td>\n",
       "    </tr>\n",
       "  </tbody>\n",
       "</table>\n",
       "</div>"
      ],
      "text/plain": [
       "   PRAEGENDE_JUGENDJAHRE  PRAEGENDE_JUGENDJAHRE_GEN  \\\n",
       "1                   14.0                       90.0   \n",
       "2                   15.0                       90.0   \n",
       "3                    8.0                       70.0   \n",
       "4                    8.0                       70.0   \n",
       "5                    3.0                       50.0   \n",
       "\n",
       "   PRAEGENDE_JUGENDJAHRE_MOVE  \n",
       "1                         1.0  \n",
       "2                         0.0  \n",
       "3                         1.0  \n",
       "4                         1.0  \n",
       "5                         1.0  "
      ]
     },
     "execution_count": 29,
     "metadata": {},
     "output_type": "execute_result"
    }
   ],
   "source": [
    "azdias_1['PRAEGENDE_JUGENDJAHRE_GEN'].replace(['40s','50s','60s','70s','80s','90s'], [40,50,60,70,80,90], inplace=True)\n",
    "azdias_1['PRAEGENDE_JUGENDJAHRE_MOVE'].replace(['Mainstream','Avantgarde'], [1,0], inplace=True)\n",
    "azdias_1[['PRAEGENDE_JUGENDJAHRE', 'PRAEGENDE_JUGENDJAHRE_GEN', 'PRAEGENDE_JUGENDJAHRE_MOVE']].head()"
   ]
  },
  {
   "cell_type": "code",
   "execution_count": 30,
   "metadata": {
    "scrolled": true
   },
   "outputs": [
    {
     "data": {
      "text/html": [
       "<div>\n",
       "<style scoped>\n",
       "    .dataframe tbody tr th:only-of-type {\n",
       "        vertical-align: middle;\n",
       "    }\n",
       "\n",
       "    .dataframe tbody tr th {\n",
       "        vertical-align: top;\n",
       "    }\n",
       "\n",
       "    .dataframe thead th {\n",
       "        text-align: right;\n",
       "    }\n",
       "</style>\n",
       "<table border=\"1\" class=\"dataframe\">\n",
       "  <thead>\n",
       "    <tr style=\"text-align: right;\">\n",
       "      <th></th>\n",
       "      <th>CAMEO_INTL_2015</th>\n",
       "      <th>CAMEO_INTL_2015_WEALTH</th>\n",
       "      <th>CAMEO_INTL_2015_LIFE_STAGE</th>\n",
       "    </tr>\n",
       "  </thead>\n",
       "  <tbody>\n",
       "    <tr>\n",
       "      <th>1</th>\n",
       "      <td>51</td>\n",
       "      <td>5.0</td>\n",
       "      <td>1.0</td>\n",
       "    </tr>\n",
       "    <tr>\n",
       "      <th>2</th>\n",
       "      <td>24</td>\n",
       "      <td>2.0</td>\n",
       "      <td>4.0</td>\n",
       "    </tr>\n",
       "    <tr>\n",
       "      <th>3</th>\n",
       "      <td>12</td>\n",
       "      <td>1.0</td>\n",
       "      <td>2.0</td>\n",
       "    </tr>\n",
       "    <tr>\n",
       "      <th>4</th>\n",
       "      <td>43</td>\n",
       "      <td>4.0</td>\n",
       "      <td>3.0</td>\n",
       "    </tr>\n",
       "    <tr>\n",
       "      <th>5</th>\n",
       "      <td>54</td>\n",
       "      <td>5.0</td>\n",
       "      <td>4.0</td>\n",
       "    </tr>\n",
       "  </tbody>\n",
       "</table>\n",
       "</div>"
      ],
      "text/plain": [
       "  CAMEO_INTL_2015  CAMEO_INTL_2015_WEALTH  CAMEO_INTL_2015_LIFE_STAGE\n",
       "1              51                     5.0                         1.0\n",
       "2              24                     2.0                         4.0\n",
       "3              12                     1.0                         2.0\n",
       "4              43                     4.0                         3.0\n",
       "5              54                     5.0                         4.0"
      ]
     },
     "execution_count": 30,
     "metadata": {},
     "output_type": "execute_result"
    }
   ],
   "source": [
    "# Investigate \"CAMEO_INTL_2015\" and engineer two new variables.\n",
    "azdias_1['CAMEO_INTL_2015_WEALTH'] = azdias_1['CAMEO_INTL_2015'].str[0]\n",
    "azdias_1['CAMEO_INTL_2015_LIFE_STAGE'] = azdias_1['CAMEO_INTL_2015'].str[1]\n",
    "\n",
    "# convert to numeric\n",
    "azdias_1.CAMEO_INTL_2015_LIFE_STAGE = azdias_1.CAMEO_INTL_2015_LIFE_STAGE.astype(float)\n",
    "azdias_1.CAMEO_INTL_2015_WEALTH = azdias_1.CAMEO_INTL_2015_WEALTH.astype(float)\n",
    "\n",
    "azdias_1[['CAMEO_INTL_2015', 'CAMEO_INTL_2015_WEALTH', 'CAMEO_INTL_2015_LIFE_STAGE']].head()"
   ]
  },
  {
   "cell_type": "markdown",
   "metadata": {},
   "source": [
    "#### Discussion 1.2.2: Engineer Mixed-Type Features\n",
    "\n",
    "(Double-click this cell and replace this text with your own text, reporting your findings and decisions regarding mixed-value features. Which ones did you keep, which did you drop, and what engineering steps did you perform?)  \n",
    "**Answer:** Each of two mixed-type features was parsed into two new numeric features.`PRAEGENDE_JUGENDJAHRE` was parsed to create `PRAEGENDE_JUGENDJAHRE_GEN` and `PRAEGENDE_JUGENDJAHRE_MOVE`. `CAMEO_INTL_2015` was parsed to create `CAMEO_INTL_2015_WEALTH` and `CAMEO_INTL_2015_LIFE_STAGE`."
   ]
  },
  {
   "cell_type": "markdown",
   "metadata": {},
   "source": [
    "#### Step 1.2.3: Complete Feature Selection\n",
    "\n",
    "In order to finish this step up, you need to make sure that your data frame now only has the columns that you want to keep. To summarize, the dataframe should consist of the following:\n",
    "- All numeric, interval, and ordinal type columns from the original dataset.\n",
    "- Binary categorical features (all numerically-encoded).\n",
    "- Engineered features from other multi-level categorical features and mixed features.\n",
    "\n",
    "Make sure that for any new columns that you have engineered, that you've excluded the original columns from the final dataset. Otherwise, their values will interfere with the analysis later on the project. For example, you should not keep \"PRAEGENDE_JUGENDJAHRE\", since its values won't be useful for the algorithm: only the values derived from it in the engineered features you created should be retained. As a reminder, your data should only be from **the subset with few or no missing values**."
   ]
  },
  {
   "cell_type": "code",
   "execution_count": 31,
   "metadata": {},
   "outputs": [],
   "source": [
    "# If there are other re-engineering tasks you need to perform, make sure you\n",
    "# take care of them here. (Dealing with missing data will come in step 2.1.)"
   ]
  },
  {
   "cell_type": "code",
   "execution_count": 32,
   "metadata": {},
   "outputs": [],
   "source": [
    "# Do whatever you need to in order to ensure that the dataframe only contains\n",
    "# the columns that should be passed to the algorithm functions.\n",
    "azdias_1 = azdias_1.drop(['PRAEGENDE_JUGENDJAHRE', 'CAMEO_INTL_2015'], axis = 1)"
   ]
  },
  {
   "cell_type": "code",
   "execution_count": 33,
   "metadata": {},
   "outputs": [
    {
     "data": {
      "text/plain": [
       "(798020, 67)"
      ]
     },
     "execution_count": 33,
     "metadata": {},
     "output_type": "execute_result"
    }
   ],
   "source": [
    "azdias_1.shape"
   ]
  },
  {
   "cell_type": "markdown",
   "metadata": {},
   "source": [
    "### Step 1.3: Create a Cleaning Function\n",
    "\n",
    "Even though you've finished cleaning up the general population demographics data, it's important to look ahead to the future and realize that you'll need to perform the same cleaning steps on the customer demographics data. In this substep, complete the function below to execute the main feature selection, encoding, and re-engineering steps you performed above. Then, when it comes to looking at the customer data in Step 3, you can just run this function on that DataFrame to get the trimmed dataset in a single step."
   ]
  },
  {
   "cell_type": "code",
   "execution_count": 34,
   "metadata": {},
   "outputs": [],
   "source": [
    "def clean_data(df):\n",
    "    \"\"\"\n",
    "    Perform feature trimming, re-encoding, and engineering for demographics\n",
    "    data\n",
    "    \n",
    "    INPUT: Demographics DataFrame\n",
    "    OUTPUT: Trimmed and cleaned demographics DataFrame\n",
    "    \"\"\"\n",
    "    \n",
    "    # Put in code here to execute all main cleaning steps:\n",
    "    # convert missing value codes into NaNs, ...\n",
    "    for col in list(df):\n",
    "        for lst in to_list(feat_info[feat_info.attribute == col].iloc[0,3]):\n",
    "            df[col] = azdias[col].replace(lst, np.nan)\n",
    "    \n",
    "    # remove selected columns and rows, ...\n",
    "    per_mis = all_mis_count/df.shape[0]\n",
    "    df = df.drop(list(per_mis[per_mis > per_mis.std()*2].index), axis = 1) # remove columns\n",
    "    mis_per_row = df.isnull().sum(axis = 1)\n",
    "    df_1 = df.drop(list(mis_per_row[mis_per_row > mis_per_row.std()*2].index), axis = 0) # remove rows\n",
    "    \n",
    "    # categorical variables\n",
    "    cat_var = set(feat_info[feat_info.type == 'categorical'].attribute).intersection(list(df_1))\n",
    "    # find cat variables with > 2 levels\n",
    "    cat_levels = []\n",
    "    for i in cat_var:\n",
    "        cat_levels.append(len(df_1[i].unique()))\n",
    "    cat_var_gt_2 = pd.Series(list(cat_var))[pd.Series(cat_levels)[pd.Series(cat_levels) > 2].index]\n",
    "    # drop the multi-level categorical variables\n",
    "    df_1 = df_1.drop(list(cat_var_gt_2), axis = 1)\n",
    "    \n",
    "    # select, re-encode, and engineer column values.\n",
    "    # Re-encode categorical variable OST_WEST_KZ that takes on non-numeric values ['W' 'O'].\n",
    "    df_1.OST_WEST_KZ.replace(['W', 'O'], [1, 0], inplace=True)\n",
    "    # Investigate \"PRAEGENDE_JUGENDJAHRE\" and engineer two new variables.\n",
    "    df_1['PRAEGENDE_JUGENDJAHRE_GEN'] = df_1.PRAEGENDE_JUGENDJAHRE.apply(gen)\n",
    "    df_1['PRAEGENDE_JUGENDJAHRE_MOVE'] = df_1.PRAEGENDE_JUGENDJAHRE.apply(move)\n",
    "    df_1['PRAEGENDE_JUGENDJAHRE_GEN'].replace(['40s','50s','60s','70s','80s','90s'], [40,50,60,70,80,90], inplace=True)\n",
    "    df_1['PRAEGENDE_JUGENDJAHRE_MOVE'].replace(['Mainstream','Avantgarde'], [1,0], inplace=True)\n",
    "    # Investigate \"CAMEO_INTL_2015\" and engineer two new variables.\n",
    "    df_1['CAMEO_INTL_2015_WEALTH'] = df_1['CAMEO_INTL_2015'].str[0]\n",
    "    df_1['CAMEO_INTL_2015_LIFE_STAGE'] = df_1['CAMEO_INTL_2015'].str[1]\n",
    "    # convert to numeric\n",
    "    df_1.CAMEO_INTL_2015_LIFE_STAGE = df_1.CAMEO_INTL_2015_LIFE_STAGE.astype(float)\n",
    "    df_1.CAMEO_INTL_2015_WEALTH = df_1.CAMEO_INTL_2015_WEALTH.astype(float)\n",
    "    # Remove two original columns\n",
    "    df_1 = df_1.drop(['PRAEGENDE_JUGENDJAHRE', 'CAMEO_INTL_2015'], axis = 1)\n",
    "\n",
    "    # Return the cleaned dataframe.\n",
    "    return(df_1)"
   ]
  },
  {
   "cell_type": "code",
   "execution_count": 35,
   "metadata": {},
   "outputs": [
    {
     "data": {
      "text/plain": [
       "(798020, 67)"
      ]
     },
     "execution_count": 35,
     "metadata": {},
     "output_type": "execute_result"
    }
   ],
   "source": [
    "# check this function\n",
    "# Load in the general demographics data.\n",
    "azdias = pd.read_csv(\"Udacity_AZDIAS_Subset.csv\", delimiter = \";\")\n",
    "x = clean_data(azdias)\n",
    "x.shape"
   ]
  },
  {
   "cell_type": "markdown",
   "metadata": {},
   "source": [
    "## Step 2: Feature Transformation\n",
    "\n",
    "### Step 2.1: Apply Feature Scaling\n",
    "\n",
    "Before we apply dimensionality reduction techniques to the data, we need to perform feature scaling so that the principal component vectors are not influenced by the natural differences in scale for features. Starting from this part of the project, you'll want to keep an eye on the [API reference page for sklearn](http://scikit-learn.org/stable/modules/classes.html) to help you navigate to all of the classes and functions that you'll need. In this substep, you'll need to check the following:\n",
    "\n",
    "- sklearn requires that data not have missing values in order for its estimators to work properly. So, before applying the scaler to your data, make sure that you've cleaned the DataFrame of the remaining missing values. This can be as simple as just removing all data points with missing data, or applying an [Imputer](http://scikit-learn.org/stable/modules/generated/sklearn.preprocessing.Imputer.html) to replace all missing values. You might also try a more complicated procedure where you temporarily remove missing values in order to compute the scaling parameters before re-introducing those missing values and applying imputation. Think about how much missing data you have and what possible effects each approach might have on your analysis, and justify your decision in the discussion section below.\n",
    "- For the actual scaling function, a [StandardScaler](http://scikit-learn.org/stable/modules/generated/sklearn.preprocessing.StandardScaler.html) instance is suggested, scaling each feature to mean 0 and standard deviation 1.\n",
    "- For these classes, you can make use of the `.fit_transform()` method to both fit a procedure to the data as well as apply the transformation to the data at the same time. Don't forget to keep the fit sklearn objects handy, since you'll be applying them to the customer demographics data towards the end of the project."
   ]
  },
  {
   "cell_type": "code",
   "execution_count": 36,
   "metadata": {},
   "outputs": [
    {
     "data": {
      "text/plain": [
       "(623209, 67)"
      ]
     },
     "execution_count": 36,
     "metadata": {},
     "output_type": "execute_result"
    }
   ],
   "source": [
    "# If you've not yet cleaned the dataset of all NaN values, then investigate and\n",
    "# do that now.\n",
    "azdias_1 = azdias_1.dropna(axis = 0)\n",
    "azdias_1.shape"
   ]
  },
  {
   "cell_type": "code",
   "execution_count": 37,
   "metadata": {},
   "outputs": [],
   "source": [
    "# Apply feature scaling to the general population demographics data.\n",
    "from sklearn.preprocessing import StandardScaler\n",
    "scaler = StandardScaler()\n",
    "azdias_scaled = pd.DataFrame(scaler.fit_transform(azdias_1), columns = list(azdias_1))"
   ]
  },
  {
   "cell_type": "markdown",
   "metadata": {},
   "source": [
    "### Discussion 2.1: Apply Feature Scaling\n",
    "(Double-click this cell and replace this text with your own text, reporting your decisions regarding feature scaling.)  \n",
    "**Answer:** *StandardScaler* method was used to scale each feature to mean 0 and standard deviation 1.."
   ]
  },
  {
   "cell_type": "markdown",
   "metadata": {},
   "source": [
    "### Step 2.2: Perform Dimensionality Reduction\n",
    "\n",
    "On your scaled data, you are now ready to apply dimensionality reduction techniques.\n",
    "\n",
    "- Use sklearn's [PCA](http://scikit-learn.org/stable/modules/generated/sklearn.decomposition.PCA.html) class to apply principal component analysis on the data, thus finding the vectors of maximal variance in the data. To start, you should not set any parameters (so all components are computed) or set a number of components that is at least half the number of features (so there's enough features to see the general trend in variability).\n",
    "- Check out the ratio of variance explained by each principal component as well as the cumulative variance explained. Try plotting the cumulative or sequential values using matplotlib's [`plot()`](https://matplotlib.org/api/_as_gen/matplotlib.pyplot.plot.html) function. Based on what you find, select a value for the number of transformed features you'll retain for the clustering part of the project.\n",
    "- Once you've made a choice for the number of components to keep, make sure you re-fit a PCA instance to perform the decided-on transformation."
   ]
  },
  {
   "cell_type": "code",
   "execution_count": 38,
   "metadata": {},
   "outputs": [],
   "source": [
    "# Apply PCA to the data.\n",
    "from sklearn.decomposition import PCA\n",
    "\n",
    "pca = PCA()\n",
    "pca.fit(azdias_scaled)\n",
    "pcs = pca.transform(azdias_scaled)"
   ]
  },
  {
   "cell_type": "code",
   "execution_count": 39,
   "metadata": {},
   "outputs": [
    {
     "data": {
      "image/png": "[encoded data removed]",
      "text/plain": [
       "<Figure size 1080x288 with 2 Axes>"
      ]
     },
     "metadata": {},
     "output_type": "display_data"
    }
   ],
   "source": [
    "# Investigate the variance accounted for by each principal component.\n",
    "plt.figure(1, figsize=(15, 4))\n",
    "\n",
    "plt.subplot(121)\n",
    "plt.bar(list(range(68))[1:], pca.explained_variance_ratio_)\n",
    "plt.xlabel('Principal Components')\n",
    "plt.ylabel('% Variance Explained')\n",
    "plt.title('% Variance Explained by Principal Components')\n",
    "\n",
    "plt.subplot(122)\n",
    "plt.bar(list(range(68))[1:], np.cumsum(pca.explained_variance_ratio_))\n",
    "plt.xlabel('Principal Components')\n",
    "plt.ylabel('Cumulative % Variance Explained')\n",
    "plt.title('Cumulative % Variance Explained')\n",
    "plt.show()"
   ]
  },
  {
   "cell_type": "code",
   "execution_count": 40,
   "metadata": {},
   "outputs": [
    {
     "data": {
      "text/plain": [
       "array([0.18044844, 0.31308693, 0.40536919, 0.46284404, 0.50454359,\n",
       "       0.53757724, 0.56874822])"
      ]
     },
     "execution_count": 40,
     "metadata": {},
     "output_type": "execute_result"
    }
   ],
   "source": [
    "np.cumsum(pca.explained_variance_ratio_[:7])"
   ]
  },
  {
   "cell_type": "code",
   "execution_count": 41,
   "metadata": {},
   "outputs": [],
   "source": [
    "# Re-apply PCA to the data while selecting for number of components to retain.\n",
    "pca1 = PCA(n_components = 7)\n",
    "pca1.fit(azdias_scaled)\n",
    "pcs = pca1.transform(azdias_scaled)"
   ]
  },
  {
   "cell_type": "markdown",
   "metadata": {},
   "source": [
    "### Discussion 2.2: Perform Dimensionality Reduction\n",
    "\n",
    "(Double-click this cell and replace this text with your own text, reporting your findings and decisions regarding dimensionality reduction. How many principal components / transformed features are you retaining for the next step of the analysis?)  \n",
    "**Answer:** The first 7 principal componenets explained about 57%. They were retained."
   ]
  },
  {
   "cell_type": "markdown",
   "metadata": {},
   "source": [
    "### Step 2.3: Interpret Principal Components\n",
    "\n",
    "Now that we have our transformed principal components, it's a nice idea to check out the weight of each variable on the first few components to see if they can be interpreted in some fashion.\n",
    "\n",
    "As a reminder, each principal component is a unit vector that points in the direction of highest variance (after accounting for the variance captured by earlier principal components). The further a weight is from zero, the more the principal component is in the direction of the corresponding feature. If two features have large weights of the same sign (both positive or both negative), then increases in one tend expect to be associated with increases in the other. To contrast, features with different signs can be expected to show a negative correlation: increases in one variable should result in a decrease in the other.\n",
    "\n",
    "- To investigate the features, you should map each weight to their corresponding feature name, then sort the features according to weight. The most interesting features for each principal component, then, will be those at the beginning and end of the sorted list. Use the data dictionary document to help you understand these most prominent features, their relationships, and what a positive or negative value on the principal component might indicate.\n",
    "- You should investigate and interpret feature associations from the first three principal components in this substep. To help facilitate this, you should write a function that you can call at any time to print the sorted list of feature weights, for the *i*-th principal component. This might come in handy in the next step of the project, when you interpret the tendencies of the discovered clusters."
   ]
  },
  {
   "cell_type": "code",
   "execution_count": 42,
   "metadata": {},
   "outputs": [
    {
     "name": "stdout",
     "output_type": "stream",
     "text": [
      "                                PC-1\n",
      "PLZ8_ANTG3                  0.216035\n",
      "PLZ8_ANTG4                  0.210718\n",
      "PLZ8_BAUMAX                 0.207660\n",
      "CAMEO_INTL_2015_WEALTH      0.194760\n",
      "HH_EINKOMMEN_SCORE          0.191216\n",
      "ORTSGR_KLS9                 0.187541\n",
      "EWDICHTE                    0.184055\n",
      "FINANZ_HAUSBAUER            0.150760\n",
      "KBA05_ANTG4                 0.146753\n",
      "PLZ8_ANTG2                  0.142594\n",
      "ARBEIT                      0.137959\n",
      "FINANZ_SPARER               0.133974\n",
      "ANZ_HAUSHALTE_AKTIV         0.130414\n",
      "KBA05_ANTG3                 0.129970\n",
      "RELAT_AB                    0.125409\n",
      "PRAEGENDE_JUGENDJAHRE_MOVE  0.110474\n",
      "SEMIO_PFLICHT               0.103092\n",
      "SEMIO_REL                   0.099830\n",
      "PRAEGENDE_JUGENDJAHRE_GEN   0.097120\n",
      "SEMIO_TRADV                 0.091327\n",
      "SEMIO_RAT                   0.085832\n",
      "SEMIO_MAT                   0.079114\n",
      "SEMIO_FAM                   0.075163\n",
      "REGIOTYP                    0.068647\n",
      "SEMIO_KULT                  0.068433\n",
      "FINANZ_UNAUFFAELLIGER       0.067745\n",
      "FINANZ_ANLEGER              0.059736\n",
      "W_KEIT_KIND_HH              0.046130\n",
      "SEMIO_SOZ                   0.042512\n",
      "KKK                         0.040439\n",
      "...                              ...\n",
      "ANREDE_KZ                   0.001517\n",
      "SOHO_KZ                    -0.002359\n",
      "ANZ_TITEL                  -0.005047\n",
      "RETOURTYP_BK_S             -0.018833\n",
      "SEMIO_VERT                 -0.027682\n",
      "MIN_GEBAEUDEJAHR           -0.035184\n",
      "ONLINE_AFFINITAET          -0.045446\n",
      "OST_WEST_KZ                -0.061734\n",
      "WOHNDAUER_2008             -0.063855\n",
      "WOHNLAGE                   -0.076307\n",
      "SEMIO_ERL                  -0.078867\n",
      "KBA13_ANZAHL_PKW           -0.079807\n",
      "SEMIO_LUST                 -0.082431\n",
      "ANZ_PERSONEN               -0.095311\n",
      "FINANZ_VORSORGER           -0.107679\n",
      "GREEN_AVANTGARDE           -0.110474\n",
      "GEBAEUDETYP_RASTER         -0.112415\n",
      "ALTERSKATEGORIE_GROB       -0.114203\n",
      "BALLRAUM                   -0.118437\n",
      "CAMEO_INTL_2015_LIFE_STAGE -0.120715\n",
      "LP_LEBENSPHASE_GROB        -0.130459\n",
      "LP_LEBENSPHASE_FEIN        -0.145920\n",
      "INNENSTADT                 -0.156226\n",
      "KONSUMNAEHE                -0.158086\n",
      "PLZ8_GBZ                   -0.165088\n",
      "FINANZ_MINIMALIST          -0.205691\n",
      "KBA05_GBZ                  -0.207354\n",
      "KBA05_ANTG1                -0.216796\n",
      "PLZ8_ANTG1                 -0.217679\n",
      "MOBI_REGIO                 -0.232075\n",
      "\n",
      "[67 rows x 1 columns]\n"
     ]
    }
   ],
   "source": [
    "# Map weights for the first principal component to corresponding feature names\n",
    "# and then print the linked values, sorted by weight.\n",
    "# HINT: Try defining a function here or in a new cell that you can reuse in the\n",
    "# other cells.\n",
    "n = azdias_scaled.shape[1]\n",
    "pc_axis = pd.DataFrame(pca.components_, columns = list(azdias_scaled),\n",
    "                  index = pd.Series(['PC']*n).str.cat(pd.Series(list(range(n+1))[1:]).astype(str), sep = '-'))\n",
    "\n",
    "def map_weights(df, pc):\n",
    "    return(pd.DataFrame(df.iloc[pc-1,].sort_values(ascending=False)))\n",
    "\n",
    "print(map_weights(pc_axis, 1))"
   ]
  },
  {
   "cell_type": "code",
   "execution_count": 43,
   "metadata": {},
   "outputs": [
    {
     "name": "stdout",
     "output_type": "stream",
     "text": [
      "                                PC-2\n",
      "ALTERSKATEGORIE_GROB        0.262682\n",
      "SEMIO_ERL                   0.233955\n",
      "FINANZ_VORSORGER            0.230037\n",
      "SEMIO_LUST                  0.181981\n",
      "RETOURTYP_BK_S              0.164483\n",
      "SEMIO_KRIT                  0.119976\n",
      "W_KEIT_KIND_HH              0.119581\n",
      "FINANZ_HAUSBAUER            0.107628\n",
      "SEMIO_KAEM                  0.107396\n",
      "PLZ8_ANTG3                  0.086997\n",
      "ANREDE_KZ                   0.086756\n",
      "EWDICHTE                    0.085758\n",
      "ORTSGR_KLS9                 0.085490\n",
      "PLZ8_ANTG4                  0.083292\n",
      "PLZ8_BAUMAX                 0.078303\n",
      "FINANZ_MINIMALIST           0.072693\n",
      "SEMIO_DOM                   0.066103\n",
      "ARBEIT                      0.062273\n",
      "CAMEO_INTL_2015_WEALTH      0.061793\n",
      "KBA05_ANTG4                 0.060240\n",
      "WOHNDAUER_2008              0.059950\n",
      "RELAT_AB                    0.059326\n",
      "PLZ8_ANTG2                  0.057879\n",
      "ANZ_HAUSHALTE_AKTIV         0.053261\n",
      "KBA05_ANTG3                 0.041728\n",
      "HH_EINKOMMEN_SCORE          0.037867\n",
      "ANZ_HH_TITEL                0.028113\n",
      "REGIOTYP                    0.018319\n",
      "PRAEGENDE_JUGENDJAHRE_MOVE  0.010868\n",
      "PLZ8_HHZ                    0.010828\n",
      "...                              ...\n",
      "OST_WEST_KZ                -0.026458\n",
      "KBA13_ANZAHL_PKW           -0.034187\n",
      "LP_LEBENSPHASE_FEIN        -0.037481\n",
      "GEBAEUDETYP_RASTER         -0.037526\n",
      "LP_LEBENSPHASE_GROB        -0.044217\n",
      "WOHNLAGE                   -0.053221\n",
      "HEALTH_TYP                 -0.054168\n",
      "BALLRAUM                   -0.056665\n",
      "KONSUMNAEHE                -0.061067\n",
      "ANZ_PERSONEN               -0.064245\n",
      "SEMIO_VERT                 -0.064339\n",
      "PLZ8_GBZ                   -0.068235\n",
      "INNENSTADT                 -0.070084\n",
      "KBA05_ANTG1                -0.071844\n",
      "KBA05_GBZ                  -0.079163\n",
      "MOBI_REGIO                 -0.079444\n",
      "PLZ8_ANTG1                 -0.084912\n",
      "SEMIO_SOZ                  -0.103274\n",
      "SEMIO_MAT                  -0.156648\n",
      "ONLINE_AFFINITAET          -0.158819\n",
      "SEMIO_RAT                  -0.174874\n",
      "SEMIO_FAM                  -0.180836\n",
      "FINANZ_ANLEGER             -0.205713\n",
      "SEMIO_KULT                 -0.220308\n",
      "FINANZ_UNAUFFAELLIGER      -0.225841\n",
      "SEMIO_TRADV                -0.232055\n",
      "FINANZ_SPARER              -0.238013\n",
      "SEMIO_PFLICHT              -0.241000\n",
      "PRAEGENDE_JUGENDJAHRE_GEN  -0.249078\n",
      "SEMIO_REL                  -0.265429\n",
      "\n",
      "[67 rows x 1 columns]\n"
     ]
    }
   ],
   "source": [
    "# Map weights for the second principal component to corresponding feature names\n",
    "# and then print the linked values, sorted by weight.\n",
    "print(map_weights(pc_axis, 2))"
   ]
  },
  {
   "cell_type": "code",
   "execution_count": 44,
   "metadata": {},
   "outputs": [
    {
     "name": "stdout",
     "output_type": "stream",
     "text": [
      "                                PC-3\n",
      "SEMIO_VERT                  0.349068\n",
      "SEMIO_SOZ                   0.263416\n",
      "SEMIO_FAM                   0.251132\n",
      "SEMIO_KULT                  0.231880\n",
      "FINANZ_MINIMALIST           0.161456\n",
      "RETOURTYP_BK_S              0.113794\n",
      "FINANZ_VORSORGER            0.097482\n",
      "W_KEIT_KIND_HH              0.090210\n",
      "ALTERSKATEGORIE_GROB        0.081558\n",
      "SEMIO_REL                   0.077213\n",
      "SEMIO_LUST                  0.073294\n",
      "GREEN_AVANTGARDE            0.058605\n",
      "SEMIO_MAT                   0.049382\n",
      "ORTSGR_KLS9                 0.047258\n",
      "EWDICHTE                    0.047226\n",
      "PLZ8_BAUMAX                 0.044574\n",
      "PLZ8_ANTG4                  0.042949\n",
      "PLZ8_ANTG3                  0.041849\n",
      "WOHNDAUER_2008              0.036043\n",
      "ARBEIT                      0.029753\n",
      "RELAT_AB                    0.028904\n",
      "PLZ8_ANTG2                  0.027740\n",
      "KBA05_ANTG4                 0.024920\n",
      "ANZ_HAUSHALTE_AKTIV         0.022574\n",
      "CAMEO_INTL_2015_WEALTH      0.017779\n",
      "ANZ_HH_TITEL                0.013741\n",
      "ANZ_TITEL                   0.011028\n",
      "LP_LEBENSPHASE_FEIN         0.008188\n",
      "PLZ8_HHZ                    0.006566\n",
      "LP_LEBENSPHASE_GROB         0.004331\n",
      "...                              ...\n",
      "HEALTH_TYP                 -0.011970\n",
      "KBA05_ANTG2                -0.012795\n",
      "KBA05_ANTG1                -0.016074\n",
      "KBA13_ANZAHL_PKW           -0.020056\n",
      "KKK                        -0.020866\n",
      "KBA05_GBZ                  -0.021170\n",
      "MOBI_REGIO                 -0.023350\n",
      "WOHNLAGE                   -0.025210\n",
      "GEBAEUDETYP_RASTER         -0.029502\n",
      "PLZ8_GBZ                   -0.034246\n",
      "HH_EINKOMMEN_SCORE         -0.034728\n",
      "BALLRAUM                   -0.036042\n",
      "KONSUMNAEHE                -0.036844\n",
      "PLZ8_ANTG1                 -0.041626\n",
      "INNENSTADT                 -0.043099\n",
      "ONLINE_AFFINITAET          -0.049929\n",
      "FINANZ_HAUSBAUER           -0.053730\n",
      "PRAEGENDE_JUGENDJAHRE_MOVE -0.058605\n",
      "SEMIO_PFLICHT              -0.076275\n",
      "SEMIO_TRADV                -0.084714\n",
      "FINANZ_UNAUFFAELLIGER      -0.090315\n",
      "FINANZ_SPARER              -0.101519\n",
      "PRAEGENDE_JUGENDJAHRE_GEN  -0.104001\n",
      "SEMIO_ERL                  -0.170552\n",
      "FINANZ_ANLEGER             -0.188559\n",
      "SEMIO_RAT                  -0.217794\n",
      "SEMIO_KRIT                 -0.270640\n",
      "SEMIO_DOM                  -0.311978\n",
      "SEMIO_KAEM                 -0.337687\n",
      "ANREDE_KZ                  -0.367526\n",
      "\n",
      "[67 rows x 1 columns]\n"
     ]
    }
   ],
   "source": [
    "# Map weights for the third principal component to corresponding feature names\n",
    "# and then print the linked values, sorted by weight.\n",
    "print(map_weights(pc_axis, 3))"
   ]
  },
  {
   "cell_type": "markdown",
   "metadata": {},
   "source": [
    "### Discussion 2.3: Interpret Principal Components\n",
    "\n",
    "(Double-click this cell and replace this text with your own text, reporting your observations from detailed investigation of the first few principal components generated. Can we interpret positive and negative values from them in a meaningful way?)  \n",
    "**Answer:** The first principal component have higher positive weights on features `PLZ8_ANTG3`,`PLZ8_ANTG4` and `PLZ8_BAUMX`. Those are macro-cell features on number of >6 family houses and most common building types in PLZ8 region. The higher weighted negative features are `KBA05_GBZ`, `KBA05_ANTG1`, `PLZ8_ANTG1` and `MOBI_REGIO`. They are micro-cell features with number of 1-2 family houses in microcell and number of 1-2 family houses in the PLZ8 region. `MOBI_REGIO` is about movement patterns. This pricipal componenet distinguish number of >6 family houses area with number of 1-2 family houses area. Movement patterns played negative role in this principal componenet."
   ]
  },
  {
   "cell_type": "markdown",
   "metadata": {},
   "source": [
    "## Step 3: Clustering\n",
    "\n",
    "### Step 3.1: Apply Clustering to General Population\n",
    "\n",
    "You've assessed and cleaned the demographics data, then scaled and transformed them. Now, it's time to see how the data clusters in the principal components space. In this substep, you will apply k-means clustering to the dataset and use the average within-cluster distances from each point to their assigned cluster's centroid to decide on a number of clusters to keep.\n",
    "\n",
    "- Use sklearn's [KMeans](http://scikit-learn.org/stable/modules/generated/sklearn.cluster.KMeans.html#sklearn.cluster.KMeans) class to perform k-means clustering on the PCA-transformed data.\n",
    "- Then, compute the average difference from each point to its assigned cluster's center. **Hint**: The KMeans object's `.score()` method might be useful here, but note that in sklearn, scores tend to be defined so that larger is better. Try applying it to a small, toy dataset, or use an internet search to help your understanding.\n",
    "- Perform the above two steps for a number of different cluster counts. You can then see how the average distance decreases with an increasing number of clusters. However, each additional cluster provides a smaller net benefit. Use this fact to select a final number of clusters in which to group the data. **Warning**: because of the large size of the dataset, it can take a long time for the algorithm to resolve. The more clusters to fit, the longer the algorithm will take. You should test for cluster counts through at least 10 clusters to get the full picture, but you shouldn't need to test for a number of clusters above about 30.\n",
    "- Once you've selected a final number of clusters to use, re-fit a KMeans instance to perform the clustering operation. Make sure that you also obtain the cluster assignments for the general demographics data, since you'll be using them in the final Step 3.3."
   ]
  },
  {
   "cell_type": "code",
   "execution_count": 45,
   "metadata": {},
   "outputs": [],
   "source": [
    "# Over a number of different cluster counts...\n",
    "# run k-means clustering on the data and...\n",
    "# compute the average within-cluster distances.\n",
    "from sklearn.cluster import KMeans\n",
    "\n",
    "Nc = list(range(1, 30))\n",
    "\n",
    "kmeans = [KMeans(n_clusters = i, random_state = 999) for i in Nc]\n",
    "score = [kmeans[i].fit(pcs).score(pcs) for i in range(len(kmeans))]"
   ]
  },
  {
   "cell_type": "code",
   "execution_count": 46,
   "metadata": {},
   "outputs": [
    {
     "data": {
      "image/png": "[encoded data removed]",
      "text/plain": [
       "<Figure size 864x504 with 1 Axes>"
      ]
     },
     "metadata": {},
     "output_type": "display_data"
    }
   ],
   "source": [
    "# Investigate the change in within-cluster distance across number of clusters.\n",
    "# HINT: Use matplotlib's plot function to visualize this relationship.\n",
    "plt.figure(figsize=(12, 7))\n",
    "plt.plot(Nc, np.abs(score), linestyle='--', marker='o', color='b')\n",
    "plt.xlabel('Number of Clusters')\n",
    "plt.ylabel('SSE')\n",
    "plt.title('SSE vs. K')\n",
    "plt.show()"
   ]
  },
  {
   "cell_type": "code",
   "execution_count": 61,
   "metadata": {},
   "outputs": [],
   "source": [
    "# Re-fit the k-means model with the selected number of clusters and obtain\n",
    "# cluster predictions for the general population demographics data.\n",
    "cluster = 9\n",
    "\n",
    "preds = kmeans[cluster - 1].predict(pcs)\n",
    "centers = kmeans[cluster - 1].cluster_centers_"
   ]
  },
  {
   "cell_type": "markdown",
   "metadata": {},
   "source": [
    "### Discussion 3.1: Apply Clustering to General Population\n",
    "\n",
    "(Double-click this cell and replace this text with your own text, reporting your findings and decisions regarding clustering. Into how many clusters have you decided to segment the population?)  \n",
    "**Answer:** Based on the 'score vs clusters' plot, 9 clusters were decice to segment the population."
   ]
  },
  {
   "cell_type": "markdown",
   "metadata": {},
   "source": [
    "### Step 3.2: Apply All Steps to the Customer Data\n",
    "\n",
    "Now that you have clusters and cluster centers for the general population, it's time to see how the customer data maps on to those clusters. Take care to not confuse this for re-fitting all of the models to the customer data. Instead, you're going to use the fits from the general population to clean, transform, and cluster the customer data. In the last step of the project, you will interpret how the general population fits apply to the customer data.\n",
    "\n",
    "- Don't forget when loading in the customers data, that it is semicolon (`;`) delimited.\n",
    "- Apply the same feature wrangling, selection, and engineering steps to the customer demographics using the `clean_data()` function you created earlier. (You can assume that the customer demographics data has similar meaning behind missing data patterns as the general demographics data.)\n",
    "- Use the sklearn objects from the general demographics data, and apply their transformations to the customers data. That is, you should not be using a `.fit()` or `.fit_transform()` method to re-fit the old objects, nor should you be creating new sklearn objects! Carry the data through the feature scaling, PCA, and clustering steps, obtaining cluster assignments for all of the data in the customer demographics data."
   ]
  },
  {
   "cell_type": "code",
   "execution_count": 48,
   "metadata": {},
   "outputs": [
    {
     "data": {
      "text/plain": [
       "(191652, 85)"
      ]
     },
     "execution_count": 48,
     "metadata": {},
     "output_type": "execute_result"
    }
   ],
   "source": [
    "# Load in the customer demographics data.\n",
    "customers = pd.read_csv(\"Udacity_CUSTOMERS_Subset.csv\", delimiter = \";\")\n",
    "customers.shape"
   ]
  },
  {
   "cell_type": "code",
   "execution_count": 49,
   "metadata": {},
   "outputs": [],
   "source": [
    "# Apply preprocessing, feature transformation, and clustering from the general\n",
    "# demographics onto the customer data, obtaining cluster predictions for the\n",
    "# customer demographics data.\n",
    "customers_1 = clean_data(customers)\n",
    "customers_1 = customers_1.dropna(axis = 0)\n",
    "customers_scaled = pd.DataFrame(scaler.fit_transform(customers_1), columns = list(customers_1))\n",
    "pcs_customers = pca1.transform(customers_scaled)\n",
    "preds_customers = kmeans[cluster - 1].predict(pcs_customers)"
   ]
  },
  {
   "cell_type": "markdown",
   "metadata": {},
   "source": [
    "### Step 3.3: Compare Customer Data to Demographics Data\n",
    "\n",
    "At this point, you have clustered data based on demographics of the general population of Germany, and seen how the customer data for a mail-order sales company maps onto those demographic clusters. In this final substep, you will compare the two cluster distributions to see where the strongest customer base for the company is.\n",
    "\n",
    "Consider the proportion of persons in each cluster for the general population, and the proportions for the customers. If we think the company's customer base to be universal, then the cluster assignment proportions should be fairly similar between the two. If there are only particular segments of the population that are interested in the company's products, then we should see a mismatch from one to the other. If there is a higher proportion of persons in a cluster for the customer data compared to the general population (e.g. 5% of persons are assigned to a cluster for the general population, but 15% of the customer data is closest to that cluster's centroid) then that suggests the people in that cluster to be a target audience for the company. On the other hand, the proportion of the data in a cluster being larger in the general population than the customer data (e.g. only 2% of customers closest to a population centroid that captures 6% of the data) suggests that group of persons to be outside of the target demographics.\n",
    "\n",
    "Take a look at the following points in this step:\n",
    "\n",
    "- Compute the proportion of data points in each cluster for the general population and the customer data. Visualizations will be useful here: both for the individual dataset proportions, but also to visualize the ratios in cluster representation between groups. Seaborn's [`countplot()`](https://seaborn.pydata.org/generated/seaborn.countplot.html) or [`barplot()`](https://seaborn.pydata.org/generated/seaborn.barplot.html) function could be handy.\n",
    "  - Recall the analysis you performed in step 1.1.3 of the project, where you separated out certain data points from the dataset if they had more than a specified threshold of missing values. If you found that this group was qualitatively different from the main bulk of the data, you should treat this as an additional data cluster in this analysis. Make sure that you account for the number of data points in this subset, for both the general population and customer datasets, when making your computations!\n",
    "- Which cluster or clusters are overrepresented in the customer dataset compared to the general population? Select at least one such cluster and infer what kind of people might be represented by that cluster. Use the principal component interpretations from step 2.3 or look at additional components to help you make this inference. Alternatively, you can use the `.inverse_transform()` method of the PCA and StandardScaler objects to transform centroids back to the original data space and interpret the retrieved values directly.\n",
    "- Perform a similar investigation for the underrepresented clusters. Which cluster or clusters are underrepresented in the customer dataset compared to the general population, and what kinds of people are typified by these clusters?"
   ]
  },
  {
   "cell_type": "code",
   "execution_count": 50,
   "metadata": {},
   "outputs": [
    {
     "data": {
      "image/png": "[encoded data removed]",
      "text/plain": [
       "<Figure size 864x432 with 1 Axes>"
      ]
     },
     "metadata": {},
     "output_type": "display_data"
    }
   ],
   "source": [
    "# Compare the proportion of data in each cluster for the customer data to the\n",
    "# proportion of data in each cluster for the general population.\n",
    "preds_ratio = pd.Series(preds).value_counts().sort_index()/len(preds)\n",
    "preds_customers_ratio = pd.Series(preds_customers).value_counts().sort_index()/len(preds_customers)\n",
    "\n",
    "fig = plt.figure(figsize=(12,6))\n",
    "ax = fig.add_subplot(111)\n",
    "ax.bar(list(range(cluster)), preds_ratio, width=0.25, color='b')\n",
    "ax.bar(pd.Series(range(cluster))+0.3, preds_customers_ratio, width=0.25, color='r')\n",
    "ax.set_xlabel('Clusters')\n",
    "ax.set_ylabel('Proportion')\n",
    "ax.set_title('Proportion by Clusters between General and Customers')\n",
    "ax.legend(('General', 'Customers'))\n",
    "plt.show()"
   ]
  },
  {
   "cell_type": "code",
   "execution_count": 51,
   "metadata": {
    "scrolled": true
   },
   "outputs": [
    {
     "name": "stdout",
     "output_type": "stream",
     "text": [
      "0.1183\n",
      "0.1324\n"
     ]
    }
   ],
   "source": [
    "# What kinds of people are part of a cluster that is overrepresented in the\n",
    "# customer data compared to the general population?\n",
    "print(np.round(preds_ratio[7],4))\n",
    "print(np.round(preds_customers_ratio[7],4))"
   ]
  },
  {
   "cell_type": "code",
   "execution_count": 121,
   "metadata": {
    "scrolled": false
   },
   "outputs": [
    {
     "data": {
      "text/html": [
       "<div>\n",
       "<style scoped>\n",
       "    .dataframe tbody tr th:only-of-type {\n",
       "        vertical-align: middle;\n",
       "    }\n",
       "\n",
       "    .dataframe tbody tr th {\n",
       "        vertical-align: top;\n",
       "    }\n",
       "\n",
       "    .dataframe thead th {\n",
       "        text-align: right;\n",
       "    }\n",
       "</style>\n",
       "<table border=\"1\" class=\"dataframe\">\n",
       "  <thead>\n",
       "    <tr style=\"text-align: right;\">\n",
       "      <th></th>\n",
       "      <th>ALTERSKATEGORIE_GROB</th>\n",
       "      <th>ANREDE_KZ</th>\n",
       "      <th>FINANZ_MINIMALIST</th>\n",
       "      <th>FINANZ_SPARER</th>\n",
       "      <th>FINANZ_VORSORGER</th>\n",
       "      <th>FINANZ_ANLEGER</th>\n",
       "      <th>FINANZ_UNAUFFAELLIGER</th>\n",
       "      <th>FINANZ_HAUSBAUER</th>\n",
       "      <th>GREEN_AVANTGARDE</th>\n",
       "      <th>HEALTH_TYP</th>\n",
       "      <th>...</th>\n",
       "      <th>PLZ8_BAUMAX</th>\n",
       "      <th>PLZ8_HHZ</th>\n",
       "      <th>PLZ8_GBZ</th>\n",
       "      <th>ARBEIT</th>\n",
       "      <th>ORTSGR_KLS9</th>\n",
       "      <th>RELAT_AB</th>\n",
       "      <th>PRAEGENDE_JUGENDJAHRE_GEN</th>\n",
       "      <th>PRAEGENDE_JUGENDJAHRE_MOVE</th>\n",
       "      <th>CAMEO_INTL_2015_WEALTH</th>\n",
       "      <th>CAMEO_INTL_2015_LIFE_STAGE</th>\n",
       "    </tr>\n",
       "  </thead>\n",
       "  <tbody>\n",
       "    <tr>\n",
       "      <th>Cluster 0</th>\n",
       "      <td>2.0</td>\n",
       "      <td>1.0</td>\n",
       "      <td>3.0</td>\n",
       "      <td>4.0</td>\n",
       "      <td>2.0</td>\n",
       "      <td>4.0</td>\n",
       "      <td>4.0</td>\n",
       "      <td>2.0</td>\n",
       "      <td>1.0</td>\n",
       "      <td>2.0</td>\n",
       "      <td>...</td>\n",
       "      <td>1.0</td>\n",
       "      <td>4.0</td>\n",
       "      <td>4.0</td>\n",
       "      <td>3.0</td>\n",
       "      <td>4.0</td>\n",
       "      <td>3.0</td>\n",
       "      <td>86.0</td>\n",
       "      <td>1.0</td>\n",
       "      <td>3.0</td>\n",
       "      <td>3.0</td>\n",
       "    </tr>\n",
       "    <tr>\n",
       "      <th>Cluster 1</th>\n",
       "      <td>4.0</td>\n",
       "      <td>2.0</td>\n",
       "      <td>3.0</td>\n",
       "      <td>2.0</td>\n",
       "      <td>4.0</td>\n",
       "      <td>2.0</td>\n",
       "      <td>2.0</td>\n",
       "      <td>4.0</td>\n",
       "      <td>0.0</td>\n",
       "      <td>2.0</td>\n",
       "      <td>...</td>\n",
       "      <td>3.0</td>\n",
       "      <td>4.0</td>\n",
       "      <td>3.0</td>\n",
       "      <td>4.0</td>\n",
       "      <td>7.0</td>\n",
       "      <td>4.0</td>\n",
       "      <td>64.0</td>\n",
       "      <td>1.0</td>\n",
       "      <td>4.0</td>\n",
       "      <td>2.0</td>\n",
       "    </tr>\n",
       "    <tr>\n",
       "      <th>Cluster 2</th>\n",
       "      <td>2.0</td>\n",
       "      <td>2.0</td>\n",
       "      <td>2.0</td>\n",
       "      <td>4.0</td>\n",
       "      <td>2.0</td>\n",
       "      <td>4.0</td>\n",
       "      <td>4.0</td>\n",
       "      <td>3.0</td>\n",
       "      <td>1.0</td>\n",
       "      <td>2.0</td>\n",
       "      <td>...</td>\n",
       "      <td>1.0</td>\n",
       "      <td>4.0</td>\n",
       "      <td>4.0</td>\n",
       "      <td>3.0</td>\n",
       "      <td>4.0</td>\n",
       "      <td>3.0</td>\n",
       "      <td>89.0</td>\n",
       "      <td>1.0</td>\n",
       "      <td>3.0</td>\n",
       "      <td>3.0</td>\n",
       "    </tr>\n",
       "    <tr>\n",
       "      <th>Cluster 3</th>\n",
       "      <td>2.0</td>\n",
       "      <td>1.0</td>\n",
       "      <td>2.0</td>\n",
       "      <td>4.0</td>\n",
       "      <td>2.0</td>\n",
       "      <td>3.0</td>\n",
       "      <td>3.0</td>\n",
       "      <td>4.0</td>\n",
       "      <td>0.0</td>\n",
       "      <td>2.0</td>\n",
       "      <td>...</td>\n",
       "      <td>3.0</td>\n",
       "      <td>4.0</td>\n",
       "      <td>3.0</td>\n",
       "      <td>4.0</td>\n",
       "      <td>7.0</td>\n",
       "      <td>4.0</td>\n",
       "      <td>86.0</td>\n",
       "      <td>1.0</td>\n",
       "      <td>4.0</td>\n",
       "      <td>2.0</td>\n",
       "    </tr>\n",
       "    <tr>\n",
       "      <th>Cluster 4</th>\n",
       "      <td>3.0</td>\n",
       "      <td>1.0</td>\n",
       "      <td>3.0</td>\n",
       "      <td>2.0</td>\n",
       "      <td>4.0</td>\n",
       "      <td>2.0</td>\n",
       "      <td>2.0</td>\n",
       "      <td>4.0</td>\n",
       "      <td>0.0</td>\n",
       "      <td>2.0</td>\n",
       "      <td>...</td>\n",
       "      <td>3.0</td>\n",
       "      <td>4.0</td>\n",
       "      <td>3.0</td>\n",
       "      <td>4.0</td>\n",
       "      <td>7.0</td>\n",
       "      <td>4.0</td>\n",
       "      <td>65.0</td>\n",
       "      <td>1.0</td>\n",
       "      <td>4.0</td>\n",
       "      <td>2.0</td>\n",
       "    </tr>\n",
       "    <tr>\n",
       "      <th>Cluster 5</th>\n",
       "      <td>3.0</td>\n",
       "      <td>1.0</td>\n",
       "      <td>4.0</td>\n",
       "      <td>2.0</td>\n",
       "      <td>4.0</td>\n",
       "      <td>2.0</td>\n",
       "      <td>2.0</td>\n",
       "      <td>2.0</td>\n",
       "      <td>1.0</td>\n",
       "      <td>2.0</td>\n",
       "      <td>...</td>\n",
       "      <td>1.0</td>\n",
       "      <td>4.0</td>\n",
       "      <td>4.0</td>\n",
       "      <td>3.0</td>\n",
       "      <td>6.0</td>\n",
       "      <td>3.0</td>\n",
       "      <td>66.0</td>\n",
       "      <td>0.0</td>\n",
       "      <td>2.0</td>\n",
       "      <td>4.0</td>\n",
       "    </tr>\n",
       "    <tr>\n",
       "      <th>Cluster 6</th>\n",
       "      <td>2.0</td>\n",
       "      <td>2.0</td>\n",
       "      <td>1.0</td>\n",
       "      <td>4.0</td>\n",
       "      <td>2.0</td>\n",
       "      <td>4.0</td>\n",
       "      <td>4.0</td>\n",
       "      <td>4.0</td>\n",
       "      <td>0.0</td>\n",
       "      <td>2.0</td>\n",
       "      <td>...</td>\n",
       "      <td>3.0</td>\n",
       "      <td>4.0</td>\n",
       "      <td>3.0</td>\n",
       "      <td>4.0</td>\n",
       "      <td>7.0</td>\n",
       "      <td>4.0</td>\n",
       "      <td>90.0</td>\n",
       "      <td>1.0</td>\n",
       "      <td>4.0</td>\n",
       "      <td>2.0</td>\n",
       "    </tr>\n",
       "    <tr>\n",
       "      <th>Cluster 7</th>\n",
       "      <td>4.0</td>\n",
       "      <td>2.0</td>\n",
       "      <td>4.0</td>\n",
       "      <td>2.0</td>\n",
       "      <td>4.0</td>\n",
       "      <td>3.0</td>\n",
       "      <td>2.0</td>\n",
       "      <td>3.0</td>\n",
       "      <td>0.0</td>\n",
       "      <td>2.0</td>\n",
       "      <td>...</td>\n",
       "      <td>1.0</td>\n",
       "      <td>3.0</td>\n",
       "      <td>4.0</td>\n",
       "      <td>3.0</td>\n",
       "      <td>3.0</td>\n",
       "      <td>2.0</td>\n",
       "      <td>65.0</td>\n",
       "      <td>1.0</td>\n",
       "      <td>3.0</td>\n",
       "      <td>3.0</td>\n",
       "    </tr>\n",
       "    <tr>\n",
       "      <th>Cluster 8</th>\n",
       "      <td>3.0</td>\n",
       "      <td>1.0</td>\n",
       "      <td>4.0</td>\n",
       "      <td>2.0</td>\n",
       "      <td>4.0</td>\n",
       "      <td>2.0</td>\n",
       "      <td>2.0</td>\n",
       "      <td>2.0</td>\n",
       "      <td>0.0</td>\n",
       "      <td>2.0</td>\n",
       "      <td>...</td>\n",
       "      <td>1.0</td>\n",
       "      <td>3.0</td>\n",
       "      <td>4.0</td>\n",
       "      <td>3.0</td>\n",
       "      <td>3.0</td>\n",
       "      <td>2.0</td>\n",
       "      <td>65.0</td>\n",
       "      <td>1.0</td>\n",
       "      <td>3.0</td>\n",
       "      <td>3.0</td>\n",
       "    </tr>\n",
       "  </tbody>\n",
       "</table>\n",
       "<p>9 rows × 67 columns</p>\n",
       "</div>"
      ],
      "text/plain": [
       "           ALTERSKATEGORIE_GROB  ANREDE_KZ  FINANZ_MINIMALIST  FINANZ_SPARER  \\\n",
       "Cluster 0                   2.0        1.0                3.0            4.0   \n",
       "Cluster 1                   4.0        2.0                3.0            2.0   \n",
       "Cluster 2                   2.0        2.0                2.0            4.0   \n",
       "Cluster 3                   2.0        1.0                2.0            4.0   \n",
       "Cluster 4                   3.0        1.0                3.0            2.0   \n",
       "Cluster 5                   3.0        1.0                4.0            2.0   \n",
       "Cluster 6                   2.0        2.0                1.0            4.0   \n",
       "Cluster 7                   4.0        2.0                4.0            2.0   \n",
       "Cluster 8                   3.0        1.0                4.0            2.0   \n",
       "\n",
       "           FINANZ_VORSORGER  FINANZ_ANLEGER  FINANZ_UNAUFFAELLIGER  \\\n",
       "Cluster 0               2.0             4.0                    4.0   \n",
       "Cluster 1               4.0             2.0                    2.0   \n",
       "Cluster 2               2.0             4.0                    4.0   \n",
       "Cluster 3               2.0             3.0                    3.0   \n",
       "Cluster 4               4.0             2.0                    2.0   \n",
       "Cluster 5               4.0             2.0                    2.0   \n",
       "Cluster 6               2.0             4.0                    4.0   \n",
       "Cluster 7               4.0             3.0                    2.0   \n",
       "Cluster 8               4.0             2.0                    2.0   \n",
       "\n",
       "           FINANZ_HAUSBAUER  GREEN_AVANTGARDE  HEALTH_TYP  \\\n",
       "Cluster 0               2.0               1.0         2.0   \n",
       "Cluster 1               4.0               0.0         2.0   \n",
       "Cluster 2               3.0               1.0         2.0   \n",
       "Cluster 3               4.0               0.0         2.0   \n",
       "Cluster 4               4.0               0.0         2.0   \n",
       "Cluster 5               2.0               1.0         2.0   \n",
       "Cluster 6               4.0               0.0         2.0   \n",
       "Cluster 7               3.0               0.0         2.0   \n",
       "Cluster 8               2.0               0.0         2.0   \n",
       "\n",
       "                      ...              PLZ8_BAUMAX  PLZ8_HHZ  PLZ8_GBZ  \\\n",
       "Cluster 0             ...                      1.0       4.0       4.0   \n",
       "Cluster 1             ...                      3.0       4.0       3.0   \n",
       "Cluster 2             ...                      1.0       4.0       4.0   \n",
       "Cluster 3             ...                      3.0       4.0       3.0   \n",
       "Cluster 4             ...                      3.0       4.0       3.0   \n",
       "Cluster 5             ...                      1.0       4.0       4.0   \n",
       "Cluster 6             ...                      3.0       4.0       3.0   \n",
       "Cluster 7             ...                      1.0       3.0       4.0   \n",
       "Cluster 8             ...                      1.0       3.0       4.0   \n",
       "\n",
       "           ARBEIT  ORTSGR_KLS9  RELAT_AB  PRAEGENDE_JUGENDJAHRE_GEN  \\\n",
       "Cluster 0     3.0          4.0       3.0                       86.0   \n",
       "Cluster 1     4.0          7.0       4.0                       64.0   \n",
       "Cluster 2     3.0          4.0       3.0                       89.0   \n",
       "Cluster 3     4.0          7.0       4.0                       86.0   \n",
       "Cluster 4     4.0          7.0       4.0                       65.0   \n",
       "Cluster 5     3.0          6.0       3.0                       66.0   \n",
       "Cluster 6     4.0          7.0       4.0                       90.0   \n",
       "Cluster 7     3.0          3.0       2.0                       65.0   \n",
       "Cluster 8     3.0          3.0       2.0                       65.0   \n",
       "\n",
       "           PRAEGENDE_JUGENDJAHRE_MOVE  CAMEO_INTL_2015_WEALTH  \\\n",
       "Cluster 0                         1.0                     3.0   \n",
       "Cluster 1                         1.0                     4.0   \n",
       "Cluster 2                         1.0                     3.0   \n",
       "Cluster 3                         1.0                     4.0   \n",
       "Cluster 4                         1.0                     4.0   \n",
       "Cluster 5                         0.0                     2.0   \n",
       "Cluster 6                         1.0                     4.0   \n",
       "Cluster 7                         1.0                     3.0   \n",
       "Cluster 8                         1.0                     3.0   \n",
       "\n",
       "           CAMEO_INTL_2015_LIFE_STAGE  \n",
       "Cluster 0                         3.0  \n",
       "Cluster 1                         2.0  \n",
       "Cluster 2                         3.0  \n",
       "Cluster 3                         2.0  \n",
       "Cluster 4                         2.0  \n",
       "Cluster 5                         4.0  \n",
       "Cluster 6                         2.0  \n",
       "Cluster 7                         3.0  \n",
       "Cluster 8                         3.0  \n",
       "\n",
       "[9 rows x 67 columns]"
      ]
     },
     "execution_count": 121,
     "metadata": {},
     "output_type": "execute_result"
    }
   ],
   "source": [
    "# Inverse transform the centers\n",
    "true_centers = scaler.inverse_transform(pca1.inverse_transform(centers))\n",
    "\n",
    "# True centers\n",
    "clusters = ['Cluster {}'.format(i) for i in range(0, len(centers))]\n",
    "true_centers = pd.DataFrame(np.round(true_centers), columns = list(azdias_1))\n",
    "true_centers.index = clusters\n",
    "true_centers"
   ]
  },
  {
   "cell_type": "code",
   "execution_count": 122,
   "metadata": {
    "scrolled": false
   },
   "outputs": [
    {
     "data": {
      "text/plain": [
       "LP_LEBENSPHASE_FEIN     19.0\n",
       "KBA13_ANZAHL_PKW       733.0\n",
       "ORTSGR_KLS9              3.0\n",
       "BALLRAUM                 6.0\n",
       "ANZ_HAUSHALTE_AKTIV      4.0\n",
       "SEMIO_KAEM               6.0\n",
       "LP_LEBENSPHASE_GROB      6.0\n",
       "HH_EINKOMMEN_SCORE       4.0\n",
       "SEMIO_VERT               3.0\n",
       "WOHNLAGE                 5.0\n",
       "INNENSTADT               6.0\n",
       "SEMIO_KRIT               6.0\n",
       "Name: Cluster 7, dtype: float64"
      ]
     },
     "execution_count": 122,
     "metadata": {},
     "output_type": "execute_result"
    }
   ],
   "source": [
    "diff = np.abs(true_centers.iloc[7] - true_centers.iloc[5]).sort_values(ascending=False)\n",
    "foi = diff[diff > 1].index\n",
    "true_centers[list(foi)].iloc[7]"
   ]
  },
  {
   "cell_type": "code",
   "execution_count": 123,
   "metadata": {},
   "outputs": [
    {
     "name": "stdout",
     "output_type": "stream",
     "text": [
      "0.1179\n",
      "0.0869\n"
     ]
    }
   ],
   "source": [
    "# What kinds of people are part of a cluster that is underrepresented in the\n",
    "# customer data compared to the general population?\n",
    "print(np.round(preds_ratio[5],4))\n",
    "print(np.round(preds_customers_ratio[5],4))"
   ]
  },
  {
   "cell_type": "code",
   "execution_count": 124,
   "metadata": {},
   "outputs": [
    {
     "data": {
      "text/plain": [
       "LP_LEBENSPHASE_FEIN     27.0\n",
       "KBA13_ANZAHL_PKW       726.0\n",
       "ORTSGR_KLS9              6.0\n",
       "BALLRAUM                 3.0\n",
       "ANZ_HAUSHALTE_AKTIV      1.0\n",
       "SEMIO_KAEM               4.0\n",
       "LP_LEBENSPHASE_GROB      8.0\n",
       "HH_EINKOMMEN_SCORE       2.0\n",
       "SEMIO_VERT               5.0\n",
       "WOHNLAGE                 3.0\n",
       "INNENSTADT               4.0\n",
       "SEMIO_KRIT               4.0\n",
       "Name: Cluster 5, dtype: float64"
      ]
     },
     "execution_count": 124,
     "metadata": {},
     "output_type": "execute_result"
    }
   ],
   "source": [
    "true_centers[list(foi)].iloc[5]"
   ]
  },
  {
   "cell_type": "markdown",
   "metadata": {},
   "source": [
    "### Discussion 3.3: Compare Customer Data to Demographics Data\n",
    "\n",
    "(Double-click this cell and replace this text with your own text, reporting findings and conclusions from the clustering analysis. Can we describe segments of the population that are relatively popular with the mail-order company, or relatively unpopular with the company?)  \n",
    "  \n",
    "**Answer:**  \n",
    "`Cluster 7` is one of the clusters that are overrepresented in the customer dataset compared to the general population. The people in this cluster tend to be customers of the mail-order sales company. The demographic characteristics in this cluster are: They are homeowner couples of higher age, live in a community of 5,001 to 10,000 inhabitants, have 50 - 100 km to the nearest urban centers and 20 - 30 km to city center, have house in a building with 4 households, have average household net income, have very poor neighborhood. As for personality typology, they are very dreamful and have very low combative attitude and very low critical-minded.  \n",
    "  \n",
    "`Cluster 5` is underrepresented in the customer dataset compared to the general population. The people in this cluster tend NOT to be customers of the mail-order sales company. The demographic characteristics in this cluster are: They are homeowner families, live in a community of 50,001 to 100,000 inhabitants, have 20 - 30 km to the nearest urban centers and 5 - 10 km to city center, have single family house, have very high household net income, have average neighborhood. As for personality typology, they are realistic amd have average low combative attitude and average critical-minded.  "
   ]
  },
  {
   "cell_type": "markdown",
   "metadata": {},
   "source": [
    "> Congratulations on making it this far in the project! Before you finish, make sure to check through the entire notebook from top to bottom to make sure that your analysis follows a logical flow and all of your findings are documented in **Discussion** cells. Once you've checked over all of your work, you should export the notebook as an HTML document to submit for evaluation. You can do this from the menu, navigating to **File -> Download as -> HTML (.html)**. You will submit both that document and this notebook for your project submission."
   ]
  }
 ],
 "metadata": {
  "kernelspec": {
   "display_name": "Python 3",
   "language": "python",
   "name": "python3"
  },
  "language_info": {
   "codemirror_mode": {
    "name": "ipython",
    "version": 3
   },
   "file_extension": ".py",
   "mimetype": "text/x-python",
   "name": "python",
   "nbconvert_exporter": "python",
   "pygments_lexer": "ipython3",
   "version": "3.6.6"
  }
 },
 "nbformat": 4,
 "nbformat_minor": 2
}
